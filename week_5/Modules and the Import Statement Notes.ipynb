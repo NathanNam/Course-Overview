{
 "cells": [
  {
   "cell_type": "markdown",
   "metadata": {},
   "source": [
    "# Standalone Programs"
   ]
  },
  {
   "cell_type": "code",
   "execution_count": 1,
   "metadata": {},
   "outputs": [
    {
     "name": "stdout",
     "output_type": "stream",
     "text": [
      "Hello World, revisited\r\n"
     ]
    }
   ],
   "source": [
    "#invoke a python file\n",
    "!python3 helloworld.py"
   ]
  },
  {
   "cell_type": "code",
   "execution_count": 2,
   "metadata": {},
   "outputs": [
    {
     "name": "stdout",
     "output_type": "stream",
     "text": [
      "# helloworld.py\r\n",
      "# \r\n",
      "# This is our frist python script run from the command line as a standalone\r\n",
      "# application\r\n",
      "\r\n",
      "print(\"Hello World, revisited\")"
     ]
    }
   ],
   "source": [
    "!cat helloworld.py"
   ]
  },
  {
   "cell_type": "code",
   "execution_count": 3,
   "metadata": {},
   "outputs": [
    {
     "name": "stdout",
     "output_type": "stream",
     "text": [
      "# showargmuments.py\r\n",
      "# \r\n",
      "# Prints out the program arguments that have been passed into this standalone\r\n",
      "# application\r\n",
      "\r\n",
      "import sys # We need to import the sys module in order to gain access to the arguments\r\n",
      "\r\n",
      "print(\"Program arguments:\", sys.argv)"
     ]
    }
   ],
   "source": [
    "!cat showarguments.py"
   ]
  },
  {
   "cell_type": "code",
   "execution_count": 4,
   "metadata": {},
   "outputs": [
    {
     "name": "stdout",
     "output_type": "stream",
     "text": [
      "Program arguments: ['showarguments.py']\r\n"
     ]
    }
   ],
   "source": [
    "!python3 showarguments.py"
   ]
  },
  {
   "cell_type": "code",
   "execution_count": 5,
   "metadata": {},
   "outputs": [
    {
     "name": "stdout",
     "output_type": "stream",
     "text": [
      "Program arguments: ['showarguments.py', 'firstArg', 'secondArg', 'thirdArg']\r\n"
     ]
    }
   ],
   "source": [
    "!python3 showarguments.py firstArg secondArg thirdArg"
   ]
  },
  {
   "cell_type": "markdown",
   "metadata": {},
   "source": [
    "## Modules and the import statement"
   ]
  },
  {
   "cell_type": "code",
   "execution_count": 6,
   "metadata": {},
   "outputs": [
    {
     "name": "stdout",
     "output_type": "stream",
     "text": [
      "# weatherman.py\r\n",
      "# \r\n",
      "# Provides the current forecast for the weather in Berkeley, California\r\n",
      "\r\n",
      "from urllib.request import urlopen\r\n",
      "import json\r\n",
      "\r\n",
      "def get_report():\r\n",
      "    \"\"\"\r\n",
      "    Returns the current forecast of Berkeley right now\r\n",
      "    \"\"\"\r\n",
      "    response = urlopen(\r\n",
      "        'http://api.openweathermap.org/data/2.5/weather?q=Berkeley,ca')\r\n",
      "    rawWeatherData = response.read().decode(\"utf-8\")\r\n",
      "    weatherData = json.loads(rawWeatherData)\r\n",
      "\r\n",
      "    forecast = \"Berkeley, CA Forecast: \" + weatherData[\"weather\"][0][\"main\"]\r\n",
      "    return forecast"
     ]
    }
   ],
   "source": [
    "!cat weatherman.py"
   ]
  },
  {
   "cell_type": "code",
   "execution_count": null,
   "metadata": {},
   "outputs": [],
   "source": [
    "import weatherman\n",
    "\n",
    "print(weatherman.get_report())"
   ]
  },
  {
   "cell_type": "markdown",
   "metadata": {},
   "source": [
    "## 1. Import a specific function directly from the external module"
   ]
  },
  {
   "cell_type": "code",
   "execution_count": null,
   "metadata": {},
   "outputs": [],
   "source": [
    "from weatherman import get_report\n",
    "\n",
    "print(get_report())"
   ]
  },
  {
   "cell_type": "markdown",
   "metadata": {},
   "source": [
    "## 2. Import the module name to avoid naming conflicts"
   ]
  },
  {
   "cell_type": "code",
   "execution_count": null,
   "metadata": {
    "collapsed": true
   },
   "outputs": [],
   "source": [
    "import weaterman\n",
    "print(weaterman.get_report())"
   ]
  },
  {
   "cell_type": "markdown",
   "metadata": {},
   "source": [
    "## 3. Import only what you want from a module by renaming the function\n"
   ]
  },
  {
   "cell_type": "code",
   "execution_count": 2,
   "metadata": {
    "collapsed": true
   },
   "outputs": [],
   "source": [
    "from weatherman import get_report as do_it\n",
    "print(do_it())"
   ]
  },
  {
   "cell_type": "markdown",
   "metadata": {},
   "source": [
    "# Note on Module Search Path"
   ]
  },
  {
   "cell_type": "code",
   "execution_count": null,
   "metadata": {},
   "outputs": [],
   "source": [
    "import sys\n",
    "for place in sys.path:\n",
    "    print(place)"
   ]
  }
 ],
 "metadata": {
  "kernelspec": {
   "display_name": "Python 3",
   "language": "python",
   "name": "python3"
  },
  "language_info": {
   "codemirror_mode": {
    "name": "ipython",
    "version": 3
   },
   "file_extension": ".py",
   "mimetype": "text/x-python",
   "name": "python",
   "nbconvert_exporter": "python",
   "pygments_lexer": "ipython3",
   "version": "3.6.2"
  }
 },
 "nbformat": 4,
 "nbformat_minor": 2
}
