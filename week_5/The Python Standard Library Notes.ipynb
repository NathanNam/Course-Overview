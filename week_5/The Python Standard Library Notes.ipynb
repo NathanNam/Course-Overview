{
 "cells": [
  {
   "cell_type": "markdown",
   "metadata": {},
   "source": [
    "## Handling KeyErrors automatically using setdefault"
   ]
  },
  {
   "cell_type": "code",
   "execution_count": 1,
   "metadata": {},
   "outputs": [
    {
     "ename": "KeyError",
     "evalue": "'Carbon'",
     "output_type": "error",
     "traceback": [
      "\u001b[0;31m---------------------------------------------------------------------------\u001b[0m",
      "\u001b[0;31mKeyError\u001b[0m                                  Traceback (most recent call last)",
      "\u001b[0;32m<ipython-input-1-7816a4c196fe>\u001b[0m in \u001b[0;36m<module>\u001b[0;34m()\u001b[0m\n\u001b[1;32m      1\u001b[0m \u001b[0mperiodic_table\u001b[0m \u001b[0;34m=\u001b[0m \u001b[0;34m{\u001b[0m\u001b[0;34m'Hydrogen'\u001b[0m\u001b[0;34m:\u001b[0m \u001b[0;36m1\u001b[0m\u001b[0;34m,\u001b[0m \u001b[0;34m'Helium'\u001b[0m\u001b[0;34m:\u001b[0m\u001b[0;36m2\u001b[0m\u001b[0;34m}\u001b[0m\u001b[0;34m\u001b[0m\u001b[0m\n\u001b[0;32m----> 2\u001b[0;31m \u001b[0mperiodic_table\u001b[0m\u001b[0;34m[\u001b[0m\u001b[0;34m'Carbon'\u001b[0m\u001b[0;34m]\u001b[0m\u001b[0;34m\u001b[0m\u001b[0m\n\u001b[0m",
      "\u001b[0;31mKeyError\u001b[0m: 'Carbon'"
     ]
    }
   ],
   "source": [
    "periodic_table = {'Hydrogen': 1, 'Helium':2}\n",
    "periodic_table['Carbon']"
   ]
  },
  {
   "cell_type": "code",
   "execution_count": 2,
   "metadata": {},
   "outputs": [
    {
     "data": {
      "text/plain": [
       "1"
      ]
     },
     "execution_count": 2,
     "metadata": {},
     "output_type": "execute_result"
    }
   ],
   "source": [
    "periodic_table.setdefault('Hydrogen', 12)\n"
   ]
  },
  {
   "cell_type": "code",
   "execution_count": 3,
   "metadata": {},
   "outputs": [
    {
     "data": {
      "text/plain": [
       "2"
      ]
     },
     "execution_count": 3,
     "metadata": {},
     "output_type": "execute_result"
    }
   ],
   "source": [
    "periodic_table.setdefault('Helium', 12)"
   ]
  },
  {
   "cell_type": "code",
   "execution_count": 4,
   "metadata": {},
   "outputs": [
    {
     "data": {
      "text/plain": [
       "12"
      ]
     },
     "execution_count": 4,
     "metadata": {},
     "output_type": "execute_result"
    }
   ],
   "source": [
    "periodic_table.setdefault('Carbon', 12)"
   ]
  },
  {
   "cell_type": "code",
   "execution_count": 5,
   "metadata": {},
   "outputs": [
    {
     "data": {
      "text/plain": [
       "{'Carbon': 12, 'Helium': 2, 'Hydrogen': 1}"
      ]
     },
     "execution_count": 5,
     "metadata": {},
     "output_type": "execute_result"
    }
   ],
   "source": [
    "periodic_table"
   ]
  },
  {
   "cell_type": "markdown",
   "metadata": {},
   "source": [
    "## Create a dictionary with a default value using defaultdic()"
   ]
  },
  {
   "cell_type": "code",
   "execution_count": 6,
   "metadata": {
    "collapsed": true
   },
   "outputs": [],
   "source": [
    "from collections import defaultdict\n",
    "\n",
    "def not_an_element():\n",
    "    # return zero\n",
    "    return int()\n",
    "\n",
    "no_error_periodic_table = defaultdict(not_an_element)\n",
    "no_error_periodic_table['Hydrogen'] = 1\n",
    "no_error_periodic_table['Helium'] = 2"
   ]
  },
  {
   "cell_type": "code",
   "execution_count": 8,
   "metadata": {},
   "outputs": [
    {
     "data": {
      "text/plain": [
       "1"
      ]
     },
     "execution_count": 8,
     "metadata": {},
     "output_type": "execute_result"
    }
   ],
   "source": [
    "no_error_periodic_table['Hydrogen']"
   ]
  },
  {
   "cell_type": "code",
   "execution_count": 9,
   "metadata": {},
   "outputs": [
    {
     "data": {
      "text/plain": [
       "2"
      ]
     },
     "execution_count": 9,
     "metadata": {},
     "output_type": "execute_result"
    }
   ],
   "source": [
    "no_error_periodic_table['Helium']"
   ]
  },
  {
   "cell_type": "code",
   "execution_count": 10,
   "metadata": {},
   "outputs": [
    {
     "data": {
      "text/plain": [
       "0"
      ]
     },
     "execution_count": 10,
     "metadata": {},
     "output_type": "execute_result"
    }
   ],
   "source": [
    "no_error_periodic_table['Carbon']"
   ]
  },
  {
   "cell_type": "code",
   "execution_count": 24,
   "metadata": {},
   "outputs": [
    {
     "name": "stdout",
     "output_type": "stream",
     "text": [
      "Clarendon Press 1\n",
      "Oxford University Press, USA 1\n",
      "UNAM 2\n",
      "Excma. Diputación de Valladolid y Fundación Jorge Guillén 1\n",
      "Fondo de Cultura Economica USA 1\n",
      "None 12\n",
      "Siglo XXI de España Editores 1\n",
      "Cambridge University Press 2\n",
      "HarperCollins UK 1\n",
      "Transaction Publishers 1\n",
      "Frog Books 1\n",
      "Arcadia Publishing 1\n",
      "Univ of California Press 4\n",
      "Courier Corporation 1\n",
      "Createspace Independent Publishing Platform 1\n",
      "Springer Science & Business Media 1\n",
      "Stanford University Press 1\n",
      "Reverte 1\n",
      "Princeton Architectural Press 1\n",
      "University of California Inst of 1\n",
      "Temple University Press 1\n",
      "Lulu.com 1\n",
      "Jones & Bartlett Learning 1\n",
      "Anaya -Spain 1\n"
     ]
    }
   ],
   "source": [
    "from collections import defaultdict\n",
    "from urllib.request import urlopen\n",
    "import json\n",
    "\n",
    "response = urlopen('https://www.googleapis.com/books/v1/volumes?q=berkeley&maxResults=40')\n",
    "rawData = response.read().decode(\"utf-8\")\n",
    "book_data = json.loads(rawData)\n",
    "\n",
    "publisher_counter = defaultdict(int)\n",
    "\n",
    "for item in book_data[\"items\"]:\n",
    "    publisher = item[\"volumeInfo\"].setdefault(\"publisher\", \"None\")\n",
    "    publisher_counter[publisher] +=1\n",
    "    \n",
    "for publisher, count in publisher_counter.items():\n",
    "    print(publisher, count)\n",
    "    "
   ]
  },
  {
   "cell_type": "code",
   "execution_count": 14,
   "metadata": {},
   "outputs": [
    {
     "data": {
      "text/plain": [
       "999999"
      ]
     },
     "execution_count": 14,
     "metadata": {},
     "output_type": "execute_result"
    }
   ],
   "source": [
    "no_error_periodic_table = defaultdict(lambda: 999999)\n",
    "no_error_periodic_table['Hydrogen'] = 1\n",
    "no_error_periodic_table['Helium'] = 2\n",
    "no_error_periodic_table['Carbon']"
   ]
  },
  {
   "cell_type": "markdown",
   "metadata": {},
   "source": [
    "## Count items with Counter()"
   ]
  },
  {
   "cell_type": "code",
   "execution_count": 17,
   "metadata": {},
   "outputs": [
    {
     "name": "stdout",
     "output_type": "stream",
     "text": [
      "Counter({'None': 12, 'Univ of California Press': 4, 'UNAM': 2, 'Cambridge University Press': 2, 'Clarendon Press': 1, 'Oxford University Press, USA': 1, 'Excma. Diputación de Valladolid y Fundación Jorge Guillén': 1, 'Fondo de Cultura Economica USA': 1, 'Siglo XXI de España Editores': 1, 'HarperCollins UK': 1, 'Transaction Publishers': 1, 'Frog Books': 1, 'Arcadia Publishing': 1, 'Courier Corporation': 1, 'Createspace Independent Publishing Platform': 1, 'Springer Science & Business Media': 1, 'Stanford University Press': 1, 'Reverte': 1, 'Princeton Architectural Press': 1, 'University of California Inst of': 1, 'Temple University Press': 1, 'Lulu.com': 1, 'Jones & Bartlett Learning': 1, 'Anaya -Spain': 1})\n"
     ]
    }
   ],
   "source": [
    "from collections import Counter\n",
    "from urllib.request import urlopen\n",
    "import json\n",
    "\n",
    "response = urlopen('https://www.googleapis.com/books/v1/volumes?q=berkeley&maxResults=40')\n",
    "rawData = response.read().decode(\"utf-8\")\n",
    "book_data = json.loads(rawData)\n",
    "\n",
    "berkeley_list = list()\n",
    "\n",
    "for item in book_data[\"items\"]:\n",
    "    berkeley_list.append(item[\"volumeInfo\"].setdefault(\"publisher\", \"None\"))\n",
    "\n",
    "berkeley_counter = Counter(berkeley_list)\n",
    "print(berkeley_counter)"
   ]
  },
  {
   "cell_type": "code",
   "execution_count": 18,
   "metadata": {},
   "outputs": [
    {
     "data": {
      "text/plain": [
       "[('None', 12), ('Univ of California Press', 4), ('UNAM', 2)]"
      ]
     },
     "execution_count": 18,
     "metadata": {},
     "output_type": "execute_result"
    }
   ],
   "source": [
    "berkeley_counter.most_common(3)"
   ]
  },
  {
   "cell_type": "code",
   "execution_count": 19,
   "metadata": {},
   "outputs": [
    {
     "name": "stdout",
     "output_type": "stream",
     "text": [
      "Counter({'None': 13, 'Stanford University Press': 10, 'Sports Publishing LLC': 1, 'Courier Corporation': 1, 'Princeton Architectural Press': 1, 'Pearson Educación': 1, 'Universidad Iberoamericana': 1, 'Emerald Group Publishing': 1, 'College Prowler, Inc': 1, 'Columbia University Press': 1, 'Oxford University Press on Demand': 1, 'Univ of California Press': 1, \"McGill-Queen's Press - MQUP\": 1, 'California State Library': 1, 'Jones & Bartlett Publishers': 1, 'Librería-Editorial Dykinson': 1, 'Reedy Press LLC': 1, 'iUniverse': 1, 'DIANE Publishing': 1})\n"
     ]
    }
   ],
   "source": [
    "from collections import Counter\n",
    "from urllib.request import urlopen\n",
    "import json\n",
    "\n",
    "response = urlopen('https://www.googleapis.com/books/v1/volumes?q=stanford&maxResults=40')\n",
    "rawData = response.read().decode(\"utf-8\")\n",
    "book_data = json.loads(rawData)\n",
    "\n",
    "stanford_list = list()\n",
    "\n",
    "for item in book_data[\"items\"]:\n",
    "    stanford_list.append(item[\"volumeInfo\"].setdefault(\"publisher\", \"None\"))\n",
    "\n",
    "stanford_counter = Counter(stanford_list)\n",
    "print(stanford_counter)"
   ]
  },
  {
   "cell_type": "code",
   "execution_count": 25,
   "metadata": {},
   "outputs": [
    {
     "data": {
      "text/plain": [
       "Counter({'Anaya -Spain': 1,\n",
       "         'Arcadia Publishing': 1,\n",
       "         'California State Library': 1,\n",
       "         'Cambridge University Press': 2,\n",
       "         'Clarendon Press': 1,\n",
       "         'College Prowler, Inc': 1,\n",
       "         'Columbia University Press': 1,\n",
       "         'Courier Corporation': 2,\n",
       "         'Createspace Independent Publishing Platform': 1,\n",
       "         'DIANE Publishing': 1,\n",
       "         'Emerald Group Publishing': 1,\n",
       "         'Excma. Diputación de Valladolid y Fundación Jorge Guillén': 1,\n",
       "         'Fondo de Cultura Economica USA': 1,\n",
       "         'Frog Books': 1,\n",
       "         'HarperCollins UK': 1,\n",
       "         'Jones & Bartlett Learning': 1,\n",
       "         'Jones & Bartlett Publishers': 1,\n",
       "         'Librería-Editorial Dykinson': 1,\n",
       "         'Lulu.com': 1,\n",
       "         \"McGill-Queen's Press - MQUP\": 1,\n",
       "         'None': 25,\n",
       "         'Oxford University Press on Demand': 1,\n",
       "         'Oxford University Press, USA': 1,\n",
       "         'Pearson Educación': 1,\n",
       "         'Princeton Architectural Press': 2,\n",
       "         'Reedy Press LLC': 1,\n",
       "         'Reverte': 1,\n",
       "         'Siglo XXI de España Editores': 1,\n",
       "         'Sports Publishing LLC': 1,\n",
       "         'Springer Science & Business Media': 1,\n",
       "         'Stanford University Press': 11,\n",
       "         'Temple University Press': 1,\n",
       "         'Transaction Publishers': 1,\n",
       "         'UNAM': 2,\n",
       "         'Univ of California Press': 5,\n",
       "         'Universidad Iberoamericana': 1,\n",
       "         'University of California Inst of': 1,\n",
       "         'iUniverse': 1})"
      ]
     },
     "execution_count": 25,
     "metadata": {},
     "output_type": "execute_result"
    }
   ],
   "source": [
    "berkeley_counter + stanford_counter"
   ]
  },
  {
   "cell_type": "code",
   "execution_count": 28,
   "metadata": {},
   "outputs": [
    {
     "data": {
      "text/plain": [
       "Counter({'Courier Corporation': 1,\n",
       "         'None': 12,\n",
       "         'Princeton Architectural Press': 1,\n",
       "         'Stanford University Press': 1,\n",
       "         'Univ of California Press': 1})"
      ]
     },
     "execution_count": 28,
     "metadata": {},
     "output_type": "execute_result"
    }
   ],
   "source": [
    "berkeley_counter & stanford_counter"
   ]
  },
  {
   "cell_type": "code",
   "execution_count": 29,
   "metadata": {},
   "outputs": [
    {
     "data": {
      "text/plain": [
       "Counter({'Anaya -Spain': 1,\n",
       "         'Arcadia Publishing': 1,\n",
       "         'California State Library': 1,\n",
       "         'Cambridge University Press': 2,\n",
       "         'Clarendon Press': 1,\n",
       "         'College Prowler, Inc': 1,\n",
       "         'Columbia University Press': 1,\n",
       "         'Courier Corporation': 1,\n",
       "         'Createspace Independent Publishing Platform': 1,\n",
       "         'DIANE Publishing': 1,\n",
       "         'Emerald Group Publishing': 1,\n",
       "         'Excma. Diputación de Valladolid y Fundación Jorge Guillén': 1,\n",
       "         'Fondo de Cultura Economica USA': 1,\n",
       "         'Frog Books': 1,\n",
       "         'HarperCollins UK': 1,\n",
       "         'Jones & Bartlett Learning': 1,\n",
       "         'Jones & Bartlett Publishers': 1,\n",
       "         'Librería-Editorial Dykinson': 1,\n",
       "         'Lulu.com': 1,\n",
       "         \"McGill-Queen's Press - MQUP\": 1,\n",
       "         'None': 13,\n",
       "         'Oxford University Press on Demand': 1,\n",
       "         'Oxford University Press, USA': 1,\n",
       "         'Pearson Educación': 1,\n",
       "         'Princeton Architectural Press': 1,\n",
       "         'Reedy Press LLC': 1,\n",
       "         'Reverte': 1,\n",
       "         'Siglo XXI de España Editores': 1,\n",
       "         'Sports Publishing LLC': 1,\n",
       "         'Springer Science & Business Media': 1,\n",
       "         'Stanford University Press': 10,\n",
       "         'Temple University Press': 1,\n",
       "         'Transaction Publishers': 1,\n",
       "         'UNAM': 2,\n",
       "         'Univ of California Press': 4,\n",
       "         'Universidad Iberoamericana': 1,\n",
       "         'University of California Inst of': 1,\n",
       "         'iUniverse': 1})"
      ]
     },
     "execution_count": 29,
     "metadata": {},
     "output_type": "execute_result"
    }
   ],
   "source": [
    "berkeley_counter | stanford_counter"
   ]
  },
  {
   "cell_type": "markdown",
   "metadata": {},
   "source": [
    "## Ordering dictionaries with OrderedDict()"
   ]
  },
  {
   "cell_type": "code",
   "execution_count": 31,
   "metadata": {},
   "outputs": [
    {
     "name": "stdout",
     "output_type": "stream",
     "text": [
      "Clarendon Press\n",
      "Oxford University Press, USA\n",
      "UNAM\n",
      "Excma. Diputación de Valladolid y Fundación Jorge Guillén\n",
      "Fondo de Cultura Economica USA\n",
      "None\n",
      "Siglo XXI de España Editores\n",
      "Cambridge University Press\n",
      "HarperCollins UK\n",
      "Transaction Publishers\n",
      "Frog Books\n",
      "Arcadia Publishing\n",
      "Univ of California Press\n",
      "Courier Corporation\n",
      "Createspace Independent Publishing Platform\n",
      "Springer Science & Business Media\n",
      "Stanford University Press\n",
      "Reverte\n",
      "Princeton Architectural Press\n",
      "University of California Inst of\n",
      "Temple University Press\n",
      "Lulu.com\n",
      "Jones & Bartlett Learning\n",
      "Anaya -Spain\n"
     ]
    }
   ],
   "source": [
    "from collections import OrderedDict\n",
    "berkeley_publishers = OrderedDict(berkeley_counter)\n",
    "\n",
    "for publisher in berkeley_publishers:\n",
    "    print(publisher)"
   ]
  },
  {
   "cell_type": "markdown",
   "metadata": {},
   "source": [
    "## Using deques"
   ]
  },
  {
   "cell_type": "code",
   "execution_count": 32,
   "metadata": {},
   "outputs": [
    {
     "name": "stdout",
     "output_type": "stream",
     "text": [
      "['None', 'Univ of California Press', 'UNAM', 'Cambridge University Press', 'Clarendon Press', 'Oxford University Press, USA', 'Excma. Diputación de Valladolid y Fundación Jorge Guillén', 'Fondo de Cultura Economica USA', 'Siglo XXI de España Editores', 'HarperCollins UK', 'Transaction Publishers', 'Frog Books', 'Arcadia Publishing', 'Courier Corporation', 'Createspace Independent Publishing Platform', 'Springer Science & Business Media', 'Stanford University Press', 'Reverte', 'Princeton Architectural Press', 'University of California Inst of', 'Temple University Press', 'Lulu.com', 'Jones & Bartlett Learning', 'Anaya -Spain']\n"
     ]
    }
   ],
   "source": [
    "berkeley_publisher_list_ordered = list()\n",
    "for key, value in berkeley_counter.most_common():\n",
    "    berkeley_publisher_list_ordered.append(key)\n",
    "\n",
    "print(berkeley_publisher_list_ordered)"
   ]
  },
  {
   "cell_type": "code",
   "execution_count": 33,
   "metadata": {},
   "outputs": [
    {
     "name": "stdout",
     "output_type": "stream",
     "text": [
      "deque(['Univ of California Press', 'UNAM', 'Cambridge University Press', 'Clarendon Press', 'Oxford University Press, USA', 'Excma. Diputación de Valladolid y Fundación Jorge Guillén', 'Fondo de Cultura Economica USA', 'Siglo XXI de España Editores', 'HarperCollins UK', 'Transaction Publishers', 'Frog Books', 'Arcadia Publishing', 'Courier Corporation', 'Createspace Independent Publishing Platform', 'Springer Science & Business Media', 'Stanford University Press', 'Reverte', 'Princeton Architectural Press', 'University of California Inst of', 'Temple University Press', 'Lulu.com', 'Jones & Bartlett Learning'])\n"
     ]
    }
   ],
   "source": [
    "from collections import deque\n",
    "\n",
    "berkeley_publisher_list_ordered_deque = deque(berkeley_publisher_list_ordered)\n",
    "berkeley_publisher_list_ordered_deque.pop()\n",
    "berkeley_publisher_list_ordered_deque.popleft()\n",
    "print(berkeley_publisher_list_ordered_deque)"
   ]
  },
  {
   "cell_type": "markdown",
   "metadata": {},
   "source": [
    "## Pretty print with pprint"
   ]
  },
  {
   "cell_type": "code",
   "execution_count": 34,
   "metadata": {},
   "outputs": [
    {
     "name": "stdout",
     "output_type": "stream",
     "text": [
      "['None',\n",
      " 'Univ of California Press',\n",
      " 'UNAM',\n",
      " 'Cambridge University Press',\n",
      " 'Clarendon Press',\n",
      " 'Oxford University Press, USA',\n",
      " 'Excma. Diputación de Valladolid y Fundación Jorge Guillén',\n",
      " 'Fondo de Cultura Economica USA',\n",
      " 'Siglo XXI de España Editores',\n",
      " 'HarperCollins UK',\n",
      " 'Transaction Publishers',\n",
      " 'Frog Books',\n",
      " 'Arcadia Publishing',\n",
      " 'Courier Corporation',\n",
      " 'Createspace Independent Publishing Platform',\n",
      " 'Springer Science & Business Media',\n",
      " 'Stanford University Press',\n",
      " 'Reverte',\n",
      " 'Princeton Architectural Press',\n",
      " 'University of California Inst of',\n",
      " 'Temple University Press',\n",
      " 'Lulu.com',\n",
      " 'Jones & Bartlett Learning',\n",
      " 'Anaya -Spain']\n"
     ]
    }
   ],
   "source": [
    "from pprint import pprint\n",
    "\n",
    "pprint(berkeley_publisher_list_ordered)"
   ]
  }
 ],
 "metadata": {
  "kernelspec": {
   "display_name": "Python 3",
   "language": "python",
   "name": "python3"
  },
  "language_info": {
   "codemirror_mode": {
    "name": "ipython",
    "version": 3
   },
   "file_extension": ".py",
   "mimetype": "text/x-python",
   "name": "python",
   "nbconvert_exporter": "python",
   "pygments_lexer": "ipython3",
   "version": "3.6.2"
  }
 },
 "nbformat": 4,
 "nbformat_minor": 2
}
