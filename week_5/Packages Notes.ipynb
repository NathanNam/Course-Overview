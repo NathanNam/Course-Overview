{
 "cells": [
  {
   "cell_type": "code",
   "execution_count": 1,
   "metadata": {},
   "outputs": [
    {
     "name": "stdout",
     "output_type": "stream",
     "text": [
      "# daily.py\r\n",
      "# \r\n",
      "# Provides the weather for Berkeley, CA for today\r\n",
      "\r\n",
      "from urllib.request import urlopen\r\n",
      "import json\r\n",
      "\r\n",
      "def forecast():\r\n",
      "    \"\"\"\r\n",
      "    Returns the daily weather for Berkeley, CA\r\n",
      "    \"\"\"\r\n",
      "    response = urlopen('http://api.openweathermap.org/data/2.5/forecast/daily?q=Berkeley&mode=json&units=Imperial&cnt=1')\r\n",
      "    rawWeatherData = response.read().decode(\"utf-8\")\r\n",
      "    weatherData = json.loads(rawWeatherData)\r\n",
      "\r\n",
      "    forecastStr = \"Forecast for Berkeley, CA: \" + weatherData[\"list\"][0][\"weather\"][0][\"main\"] + \"\\n\" \\\r\n",
      "        \"Current Temp: \" + str(weatherData[\"list\"][0][\"temp\"][\"day\"]) + \" degrees \\n\"  \\\r\n",
      "        \"High Temp: \" + str(weatherData[\"list\"][0][\"temp\"][\"max\"]) + \" degrees \\n\" \\\r\n",
      "        \"Low Temp: \" + str(weatherData[\"list\"][0][\"temp\"][\"min\"]) + \" degrees\"\r\n",
      "\r\n",
      "    return forecastStr"
     ]
    }
   ],
   "source": [
    "!cat weather/daily.py"
   ]
  },
  {
   "cell_type": "code",
   "execution_count": 2,
   "metadata": {},
   "outputs": [
    {
     "name": "stdout",
     "output_type": "stream",
     "text": [
      "# weekly.py\r\n",
      "# \r\n",
      "# Provides the weather for Berkeley, CA for the week\r\n",
      "\r\n",
      "from urllib.request import urlopen\r\n",
      "import json\r\n",
      "import datetime\r\n",
      "\r\n",
      "def forecast():\r\n",
      "    \"\"\"\r\n",
      "    Returns the daily weather for Berkeley, CA\r\n",
      "    \"\"\"\r\n",
      "    response = urlopen('http://api.openweathermap.org/data/2.5/forecast/daily?q=Berkeley&mode=json&units=Imperial&cnt=7')\r\n",
      "    rawWeatherDataList = response.read().decode(\"utf-8\")\r\n",
      "    weatherDataList = json.loads(rawWeatherDataList)\r\n",
      "\r\n",
      "    forecastStr = \"\"\r\n",
      "    for i in range(7):\r\n",
      "        forecastStr += _daily_forecast(weatherDataList[\"list\"][i]) + \"\\n\\n\"\r\n",
      "\r\n",
      "    forecastStr = forecastStr[:-2] # Remove the two newlines at the end \r\n",
      "    return forecastStr\r\n",
      "\r\n",
      "\r\n",
      "def _daily_forecast(weatherData):\r\n",
      "    \"\"\"\r\n",
      "    Helper function that prints a single day's forecast\r\n",
      "    \"\"\"\r\n",
      "\r\n",
      "    # Using python datetime support to convert a timestamp into a full date\r\n",
      "    \r\n",
      "    # First need to define the UTC offset for Berkeley, CA (UTC - 8:00) (not daylight savings time)\r\n",
      "    current_utc_offset = -datetime.timedelta(hours=8)\r\n",
      "\r\n",
      "    # Next we create a timezone based on the utc offset for Pacific Standard Time\r\n",
      "    current_timezone = datetime.timezone(current_utc_offset)\r\n",
      "\r\n",
      "    # Last we create a datetime object based on the timestamp provided by the response, and\r\n",
      "    # we localize the timezone to represent Pacific Standard Time \r\n",
      "    current_datetime = datetime.datetime.fromtimestamp(weatherData[\"dt\"], current_timezone)\r\n",
      "\r\n",
      "    # Printing of the forecast\r\n",
      "    \r\n",
      "    # Note we use strftime to format how we would like to print out the datetime\r\n",
      "    forecastStr = \"Forecast for Berkeley, CA on \" + current_datetime.strftime(\"%A, %B %d, %Y %H:%M %p\") + \" local time\\n\" \\\r\n",
      "    \"Weather: \"  + weatherData[\"weather\"][0][\"main\"] + \"\\n\" \\\r\n",
      "    \"Current Temp: \" + str(weatherData[\"temp\"][\"day\"]) + \" degrees \\n\"  \\\r\n",
      "    \"High Temp: \" + str(weatherData[\"temp\"][\"max\"]) + \" degrees \\n\" \\\r\n",
      "    \"Low Temp: \" + str(weatherData[\"temp\"][\"min\"]) + \" degrees\"\r\n",
      "\r\n",
      "    return forecastStr\r\n"
     ]
    }
   ],
   "source": [
    "!cat weather/weekly.py"
   ]
  },
  {
   "cell_type": "code",
   "execution_count": null,
   "metadata": {},
   "outputs": [],
   "source": [
    "from weather import daily, weekly\n",
    "\n",
    "print(\"Daily\")\n",
    "print(daily.forecast())\n",
    "print()\n",
    "\n",
    "\n",
    "print(\"Weekly\")\n",
    "print(weekly.forecast())\n",
    "print()"
   ]
  },
  {
   "cell_type": "code",
   "execution_count": 5,
   "metadata": {
    "collapsed": true
   },
   "outputs": [],
   "source": [
    "from weather.daily import forecast as daily_forecast\n",
    "from weather.weekly import forecast as weekly_forecast"
   ]
  },
  {
   "cell_type": "markdown",
   "metadata": {},
   "source": [
    "## Note on datetime in Python3"
   ]
  },
  {
   "cell_type": "code",
   "execution_count": 7,
   "metadata": {},
   "outputs": [
    {
     "name": "stdout",
     "output_type": "stream",
     "text": [
      "Forecast for Berkeley, CA on Saturday, August 22, 2015 11:16 AM local time\n",
      "\n"
     ]
    }
   ],
   "source": [
    "import datetime\n",
    "\n",
    "weatherData = {}\n",
    "weatherData[\"dt\"] = 1440270976\n",
    "\n",
    "current_utc_offset = -datetime.timedelta(hours=8)\n",
    "current_timezone = datetime.timezone(current_utc_offset)\n",
    "current_datetime = datetime.datetime.fromtimestamp(weatherData[\"dt\"], current_timezone)\n",
    "\n",
    "forecastStr = \"Forecast for Berkeley, CA on \" + current_datetime.strftime(\"%A, %B %d, %Y %H:%M %p\") + \" local time\\n\" \\\n",
    "\n",
    "print(forecastStr)"
   ]
  },
  {
   "cell_type": "code",
   "execution_count": null,
   "metadata": {
    "collapsed": true
   },
   "outputs": [],
   "source": []
  }
 ],
 "metadata": {
  "kernelspec": {
   "display_name": "Python 3",
   "language": "python",
   "name": "python3"
  },
  "language_info": {
   "codemirror_mode": {
    "name": "ipython",
    "version": 3
   },
   "file_extension": ".py",
   "mimetype": "text/x-python",
   "name": "python",
   "nbconvert_exporter": "python",
   "pygments_lexer": "ipython3",
   "version": "3.6.2"
  }
 },
 "nbformat": 4,
 "nbformat_minor": 2
}
