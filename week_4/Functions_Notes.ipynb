{
 "cells": [
  {
   "cell_type": "markdown",
   "metadata": {},
   "source": [
    "# Functions\n"
   ]
  },
  {
   "cell_type": "code",
   "execution_count": 1,
   "metadata": {
    "collapsed": true
   },
   "outputs": [],
   "source": [
    "def print_stuff():\n",
    "    print(\"some stuff\")\n",
    "    print(\"more stuff\")"
   ]
  },
  {
   "cell_type": "code",
   "execution_count": 2,
   "metadata": {},
   "outputs": [
    {
     "data": {
      "text/plain": [
       "<function __main__.print_stuff>"
      ]
     },
     "execution_count": 2,
     "metadata": {},
     "output_type": "execute_result"
    }
   ],
   "source": [
    "print_stuff"
   ]
  },
  {
   "cell_type": "code",
   "execution_count": 3,
   "metadata": {},
   "outputs": [
    {
     "name": "stdout",
     "output_type": "stream",
     "text": [
      "Things on my todo list: \n",
      "some stuff\n",
      "more stuff\n",
      "some stuff\n",
      "more stuff\n"
     ]
    }
   ],
   "source": [
    "print(\"Things on my todo list: \")\n",
    "print_stuff()\n",
    "print_stuff()"
   ]
  },
  {
   "cell_type": "code",
   "execution_count": 4,
   "metadata": {
    "collapsed": true
   },
   "outputs": [],
   "source": [
    "##Square root algorithm as a function\n",
    "def sqrt(x, epsilon):\n",
    "    \"\"\"Newton's Method to find square root\n",
    "       with precision epsilon (Heron's algorithm)\"\"\"\n",
    "    ans = 1\n",
    "    num_guesses = 0\n",
    "    while abs(x/ans - ans) > epsilon:\n",
    "        ans = (x/ans + ans)/2\n",
    "        num_guesses += 1\n",
    "    return ans\n"
   ]
  },
  {
   "cell_type": "code",
   "execution_count": 5,
   "metadata": {},
   "outputs": [
    {
     "name": "stdout",
     "output_type": "stream",
     "text": [
      "Help on function sqrt in module __main__:\n",
      "\n",
      "sqrt(x, epsilon)\n",
      "    Newton's Method to find square root\n",
      "    with precision epsilon (Heron's algorithm)\n",
      "\n"
     ]
    }
   ],
   "source": [
    "help(sqrt)"
   ]
  },
  {
   "cell_type": "code",
   "execution_count": 6,
   "metadata": {},
   "outputs": [
    {
     "name": "stdout",
     "output_type": "stream",
     "text": [
      "2.2360688956433634 is close to the square root of 5\n",
      "1.495349088238384 is close to the fourth root of 5\n"
     ]
    }
   ],
   "source": [
    "root = sqrt(5, 0.00001)\n",
    "print(root, \"is close to the square root of 5\")\n",
    "fourth_root = sqrt(root, 0.00001)\n",
    "print(fourth_root, \"is close to the fourth root of 5\")\n"
   ]
  },
  {
   "cell_type": "markdown",
   "metadata": {},
   "source": [
    "## Nesting Functions"
   ]
  },
  {
   "cell_type": "code",
   "execution_count": 9,
   "metadata": {},
   "outputs": [
    {
     "name": "stdout",
     "output_type": "stream",
     "text": [
      "Enter an x-coordinate: 3\n",
      "Enter an x-coordinate: 4\n",
      "The magnitude of your vector is 5.000000000053722\n",
      "The geometric mean of x and y is 3.4641016533502986\n"
     ]
    }
   ],
   "source": [
    "##Square root algorithm as a function\n",
    "def sqrt(x, epsilon):\n",
    "    \"\"\"Newton's Method to find square root\n",
    "       with precision epsilon (Heron's algorithm)\"\"\"\n",
    "    ans = 1\n",
    "    num_guesses = 0\n",
    "    while abs(x/ans - ans) > epsilon:\n",
    "        ans = (x/ans + ans)/2\n",
    "        num_guesses += 1\n",
    "    return ans\n",
    "\n",
    "\n",
    "def distance_to_origin(x,y):\n",
    "    \"\"\"Find the distance from a point at (x,y) to the origin\"\"\"\n",
    "    ans = sqrt(x**2 + y**2, 0.00001)\n",
    "    return ans\n",
    "\n",
    "def geometric_mean(x,y):\n",
    "    \"\"\"Compute the square root of x * y\"\"\"\n",
    "    return sqrt(x*y, 0.00001)\n",
    "\n",
    "x = float(input(\"Enter an x-coordinate: \"))\n",
    "y = float(input(\"Enter an x-coordinate: \"))\n",
    "magnitude = distance_to_origin(x,y)\n",
    "print(\"The magnitude of your vector is\", magnitude)\n",
    "geo_mean = geometric_mean(x,y)\n",
    "print(\"The geometric mean of x and y is\", geo_mean)\n"
   ]
  },
  {
   "cell_type": "code",
   "execution_count": null,
   "metadata": {
    "collapsed": true
   },
   "outputs": [],
   "source": [
    "x = float(input(\"Enter an x-coordinate:\"))\n"
   ]
  }
 ],
 "metadata": {
  "kernelspec": {
   "display_name": "Python 3",
   "language": "python",
   "name": "python3"
  },
  "language_info": {
   "codemirror_mode": {
    "name": "ipython",
    "version": 3
   },
   "file_extension": ".py",
   "mimetype": "text/x-python",
   "name": "python",
   "nbconvert_exporter": "python",
   "pygments_lexer": "ipython3",
   "version": "3.6.2"
  }
 },
 "nbformat": 4,
 "nbformat_minor": 2
}
