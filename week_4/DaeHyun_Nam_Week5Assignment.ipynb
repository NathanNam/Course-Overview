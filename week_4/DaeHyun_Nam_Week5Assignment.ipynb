{
 "cells": [
  {
   "cell_type": "markdown",
   "metadata": {},
   "source": [
    "# Function Exercises"
   ]
  },
  {
   "cell_type": "markdown",
   "metadata": {},
   "source": [
    "Write a function, sum_digits, which takes an int and returns the sum of its digits."
   ]
  },
  {
   "cell_type": "code",
   "execution_count": 7,
   "metadata": {
    "collapsed": true
   },
   "outputs": [],
   "source": [
    "def sum_digits(x):\n",
    "    sum = 0\n",
    "    while x >= 10:\n",
    "        sum = sum + x % 10\n",
    "        x = x // 10\n",
    "    sum = sum + x\n",
    "    return sum\n"
   ]
  },
  {
   "cell_type": "code",
   "execution_count": 10,
   "metadata": {},
   "outputs": [
    {
     "data": {
      "text/plain": [
       "6"
      ]
     },
     "execution_count": 10,
     "metadata": {},
     "output_type": "execute_result"
    }
   ],
   "source": [
    "sum_digits (123)"
   ]
  },
  {
   "cell_type": "markdown",
   "metadata": {},
   "source": [
    "Write another function that “wraps” sum digits in that it calls sum digits from within it. Call this function diff_sum_digits. Use that function to compute the input number minus the sum of digits of input\n",
    "number."
   ]
  },
  {
   "cell_type": "code",
   "execution_count": 11,
   "metadata": {
    "collapsed": true
   },
   "outputs": [],
   "source": [
    "def diff_sum_digits(x):\n",
    "    return x - sum_digits(x)"
   ]
  },
  {
   "cell_type": "code",
   "execution_count": 14,
   "metadata": {},
   "outputs": [
    {
     "data": {
      "text/plain": [
       "0"
      ]
     },
     "execution_count": 14,
     "metadata": {},
     "output_type": "execute_result"
    }
   ],
   "source": [
    "diff_sum_digits(5)"
   ]
  },
  {
   "cell_type": "markdown",
   "metadata": {},
   "source": [
    "Writer another function that “wraps” diff_sum_digits. If diff_sum_digits returns a result that has\n",
    "more than one digit (either negative or positive) have it replace it with the sum of the digits of the result. Do this repeatedly until the result has just one digit, then display it."
   ]
  },
  {
   "cell_type": "code",
   "execution_count": 15,
   "metadata": {
    "collapsed": true
   },
   "outputs": [],
   "source": [
    "def one_digit(x):\n",
    "    result = diff_sum_digits(x)\n",
    "    while result >= 10:\n",
    "        result = sum_digits(result)\n",
    "    return result\n",
    "        "
   ]
  },
  {
   "cell_type": "code",
   "execution_count": 22,
   "metadata": {},
   "outputs": [
    {
     "data": {
      "text/plain": [
       "9"
      ]
     },
     "execution_count": 22,
     "metadata": {},
     "output_type": "execute_result"
    }
   ],
   "source": [
    "one_digit(23)"
   ]
  },
  {
   "cell_type": "markdown",
   "metadata": {},
   "source": [
    "Write a function is_consonant that takes a character and returns True if it is a consonant."
   ]
  },
  {
   "cell_type": "code",
   "execution_count": 2,
   "metadata": {
    "collapsed": true
   },
   "outputs": [],
   "source": [
    "def is_consonant(char):\n",
    "    if char not in \"aeiou\":\n",
    "        return True\n",
    "    else:\n",
    "        return False"
   ]
  },
  {
   "cell_type": "code",
   "execution_count": 26,
   "metadata": {},
   "outputs": [
    {
     "data": {
      "text/plain": [
       "True"
      ]
     },
     "execution_count": 26,
     "metadata": {},
     "output_type": "execute_result"
    }
   ],
   "source": [
    "is_consonant(\"c\")"
   ]
  },
  {
   "cell_type": "markdown",
   "metadata": {},
   "source": [
    "Use your function to create a new fuction to_piglatin that takes a word, moves all starting consonants to the end of the word, then adds ay to the end and returns the result. You may expect that the the input will be just one word.\n",
    "Extra Credit: Have this function check whether or not the input is multiple words and return the whole\n",
    "sentence in pig latin. For this you may assume that a sentence always ends with a period and is always one\n",
    "sentence, never more than one."
   ]
  },
  {
   "cell_type": "code",
   "execution_count": 1,
   "metadata": {},
   "outputs": [],
   "source": [
    "def to_piglatin(word):\n",
    "    piglatin = \"\"\n",
    "    for i in range(len(word)):\n",
    "        if is_consonant(word[i]):\n",
    "            piglatin = piglatin + word[i].lower()\n",
    "        else:\n",
    "            piglatin = word[i:] + piglatin\n",
    "            break\n",
    "    return piglatin[0].upper()+piglatin[1:]+\"ay\""
   ]
  },
  {
   "cell_type": "code",
   "execution_count": 6,
   "metadata": {},
   "outputs": [
    {
     "data": {
      "text/plain": [
       "'Athan Namnay'"
      ]
     },
     "execution_count": 6,
     "metadata": {},
     "output_type": "execute_result"
    }
   ],
   "source": [
    "to_piglatin(\"Nathan Nam\")"
   ]
  },
  {
   "cell_type": "markdown",
   "metadata": {},
   "source": [
    "# Namespace Exercises"
   ]
  },
  {
   "cell_type": "markdown",
   "metadata": {},
   "source": [
    "The following script defines a list of customer orders. Each item in the list is a tuple containing the name of the item, the number requested, and the price per item.\n",
    "Fill in just the process order function below without changing any other code. This function should remove one of the elements of the order list and print a nice message about it. Finally, make sure that the final print statement correctly displays the total price for the entire list."
   ]
  },
  {
   "cell_type": "code",
   "execution_count": 23,
   "metadata": {},
   "outputs": [
    {
     "name": "stdout",
     "output_type": "stream",
     "text": [
      "Order for antacid has been processed.\n",
      "Order for sour bites has been processed.\n",
      "Order for gummy bears has been processed.\n",
      "Order for oranges has been processed.\n",
      "total price:  27.19\n"
     ]
    }
   ],
   "source": [
    "total = 0\n",
    "\n",
    "def process_order(x_list):\n",
    "    global total\n",
    "    global x\n",
    "    for i in range(len(x_list)):\n",
    "        item, number, price = x.pop()\n",
    "        total = total + number * price\n",
    "        print(\"Order for\", item + \" has been processed.\" )\n",
    "\n",
    "x = [(\"oranges\", 4, 3.22),(\"gummy bears\",1,1.99),(\"sour bites\", 3, 2.33), (\"antacid\", 1, 5.33)]\n",
    "while(len(x)>0):\n",
    "    process_order(x)\n",
    "print(\"total price: \", total)\n"
   ]
  },
  {
   "cell_type": "markdown",
   "metadata": {},
   "source": [
    "# Functions as Objects\n"
   ]
  },
  {
   "cell_type": "markdown",
   "metadata": {},
   "source": [
    "The following code defines a list of names and also contains a header for the function best. This function should take two arguments: a function, score, and a list of strings, names. Fill in the function so that it applies the score function to each string in names and returns the one with the highest score. If there are ties in the list, your function should return the first item with the maximum score."
   ]
  },
  {
   "cell_type": "code",
   "execution_count": 29,
   "metadata": {},
   "outputs": [],
   "source": [
    "def best(score, names):\n",
    "    highest_score = 0\n",
    "    highest_name = \"\"\n",
    "    for name in names:\n",
    "        if highest_score < score(name):\n",
    "            highest_score = score(name)\n",
    "            highest_name = name\n",
    "    \n",
    "    return name\n",
    "            \n",
    "names = [\"Ben\", \"April\", \"Zaber\", \"Alexis\", \"McJagger\", \"J.J.\", \"Madonna\"]"
   ]
  },
  {
   "cell_type": "markdown",
   "metadata": {},
   "source": [
    "Next, define a function, number_of_vowels, that returns the number of vowels in a string. Use it with your best function to find the name in names with the most vowels."
   ]
  },
  {
   "cell_type": "code",
   "execution_count": 30,
   "metadata": {},
   "outputs": [
    {
     "data": {
      "text/plain": [
       "'Madonna'"
      ]
     },
     "execution_count": 30,
     "metadata": {},
     "output_type": "execute_result"
    }
   ],
   "source": [
    "def number_of_vowels(name):\n",
    "    vowels = 0\n",
    "    for char in name:\n",
    "        if char not in \"aeiou\":\n",
    "            vowels += 1\n",
    "    return vowels\n",
    "            \n",
    "best(number_of_vowels, names)"
   ]
  },
  {
   "cell_type": "markdown",
   "metadata": {},
   "source": [
    "Next, pass a lambda function into your best function to find the name in names with the highest number of a’s."
   ]
  },
  {
   "cell_type": "code",
   "execution_count": 31,
   "metadata": {},
   "outputs": [
    {
     "data": {
      "text/plain": [
       "'Madonna'"
      ]
     },
     "execution_count": 31,
     "metadata": {},
     "output_type": "execute_result"
    }
   ],
   "source": [
    "best(lambda x: x.count('a'), names)"
   ]
  },
  {
   "cell_type": "markdown",
   "metadata": {},
   "source": [
    "# Exceptions Exercises"
   ]
  },
  {
   "cell_type": "markdown",
   "metadata": {},
   "source": [
    "Refactor this code that attempts to compute a reciprocal so that it keeps prompting the user for a number repeatedly until the user successfully enters a valid number. If the user enters 0, the program should print that zero does not have a reciprocal, then terminate."
   ]
  },
  {
   "cell_type": "code",
   "execution_count": 38,
   "metadata": {},
   "outputs": [
    {
     "name": "stdout",
     "output_type": "stream",
     "text": [
      "Enter a number: q\n",
      "You did not enter a valid number.\n",
      "Enter a number: q\n",
      "You did not enter a valid number.\n",
      "Enter a number: 0\n",
      "Zero does not have a reciprocal\n"
     ]
    }
   ],
   "source": [
    "terminated = False\n",
    "\n",
    "while terminated == False:\n",
    "\n",
    "    try:\n",
    "        x = float(input(\"Enter a number: \"))\n",
    "        print(\"The reciprocal of your number is\", 1/x)\n",
    "        terminated = True\n",
    "    except ValueError:\n",
    "        print(\"You did not enter a valid number.\")\n",
    "    except ZeroDivisionError:\n",
    "        print(\"Zero does not have a reciprocal\")\n",
    "        terminated = True\n",
    "    except:\n",
    "        print(\"something else went wrong.\")"
   ]
  },
  {
   "cell_type": "markdown",
   "metadata": {},
   "source": [
    "Write a function that takes a list of grades and a corresponding list of percentages and returns the weighted average of the grades. Your function should raise an exception if a percentage is less than 0 or greater than 100, and a different exception if the percentages do not add to 100."
   ]
  },
  {
   "cell_type": "code",
   "execution_count": 52,
   "metadata": {},
   "outputs": [],
   "source": [
    "def grade(grades, percentages):\n",
    "    total_percentage = 0\n",
    "    weighted_average = 0\n",
    "    for i in range(len(grades)):\n",
    "        if percentages[i] < 0:\n",
    "            raise Exception(str(percentages[i]) + \" is less than 0.\")\n",
    "        elif percentages[i] > 100:\n",
    "            raise Exception(str(percentages[i]) + \" is greater than 100.\")\n",
    "        else: \n",
    "            weighted_average = weighted_average + grades[i] * percentages[i]\n",
    "            total_percentage = total_percentage + percentages[i]\n",
    "    \n",
    "    if total_percentage != 100:\n",
    "        raise Exception(\"The percentages do not add to 100.\")\n",
    "    else:\n",
    "        return weighted_average / total_percentage"
   ]
  },
  {
   "cell_type": "code",
   "execution_count": 53,
   "metadata": {},
   "outputs": [
    {
     "ename": "Exception",
     "evalue": "The percentages do not add to 100.",
     "output_type": "error",
     "traceback": [
      "\u001b[0;31m---------------------------------------------------------------------------\u001b[0m",
      "\u001b[0;31mException\u001b[0m                                 Traceback (most recent call last)",
      "\u001b[0;32m<ipython-input-53-59565350ef09>\u001b[0m in \u001b[0;36m<module>\u001b[0;34m()\u001b[0m\n\u001b[1;32m      1\u001b[0m \u001b[0mgrades1\u001b[0m \u001b[0;34m=\u001b[0m \u001b[0;34m[\u001b[0m\u001b[0;36m88\u001b[0m\u001b[0;34m,\u001b[0m\u001b[0;36m99\u001b[0m\u001b[0;34m,\u001b[0m\u001b[0;36m100\u001b[0m\u001b[0;34m,\u001b[0m\u001b[0;36m70\u001b[0m\u001b[0;34m]\u001b[0m\u001b[0;34m\u001b[0m\u001b[0m\n\u001b[1;32m      2\u001b[0m \u001b[0mweights1\u001b[0m \u001b[0;34m=\u001b[0m \u001b[0;34m[\u001b[0m\u001b[0;36m30\u001b[0m\u001b[0;34m,\u001b[0m \u001b[0;36m30\u001b[0m\u001b[0;34m,\u001b[0m \u001b[0;36m30\u001b[0m\u001b[0;34m,\u001b[0m \u001b[0;36m5\u001b[0m\u001b[0;34m]\u001b[0m\u001b[0;34m\u001b[0m\u001b[0m\n\u001b[0;32m----> 3\u001b[0;31m \u001b[0mgrade\u001b[0m\u001b[0;34m(\u001b[0m\u001b[0mgrades1\u001b[0m\u001b[0;34m,\u001b[0m \u001b[0mweights1\u001b[0m\u001b[0;34m)\u001b[0m\u001b[0;34m\u001b[0m\u001b[0m\n\u001b[0m",
      "\u001b[0;32m<ipython-input-52-3b798decb80d>\u001b[0m in \u001b[0;36mgrade\u001b[0;34m(grades, percentages)\u001b[0m\n\u001b[1;32m     12\u001b[0m \u001b[0;34m\u001b[0m\u001b[0m\n\u001b[1;32m     13\u001b[0m     \u001b[0;32mif\u001b[0m \u001b[0mtotal_percentage\u001b[0m \u001b[0;34m!=\u001b[0m \u001b[0;36m100\u001b[0m\u001b[0;34m:\u001b[0m\u001b[0;34m\u001b[0m\u001b[0m\n\u001b[0;32m---> 14\u001b[0;31m         \u001b[0;32mraise\u001b[0m \u001b[0mException\u001b[0m\u001b[0;34m(\u001b[0m\u001b[0;34m\"The percentages do not add to 100.\"\u001b[0m\u001b[0;34m)\u001b[0m\u001b[0;34m\u001b[0m\u001b[0m\n\u001b[0m\u001b[1;32m     15\u001b[0m     \u001b[0;32melse\u001b[0m\u001b[0;34m:\u001b[0m\u001b[0;34m\u001b[0m\u001b[0m\n\u001b[1;32m     16\u001b[0m         \u001b[0;32mreturn\u001b[0m \u001b[0mweighted_average\u001b[0m \u001b[0;34m/\u001b[0m \u001b[0mtotal_percentage\u001b[0m\u001b[0;34m\u001b[0m\u001b[0m\n",
      "\u001b[0;31mException\u001b[0m: The percentages do not add to 100."
     ]
    }
   ],
   "source": [
    "grades1 = [88,99,100,70]\n",
    "weights1 = [30, 30, 30, 5]\n",
    "grade(grades1, weights1)"
   ]
  },
  {
   "cell_type": "code",
   "execution_count": 54,
   "metadata": {},
   "outputs": [
    {
     "ename": "Exception",
     "evalue": "110 is greater than 100.",
     "output_type": "error",
     "traceback": [
      "\u001b[0;31m---------------------------------------------------------------------------\u001b[0m",
      "\u001b[0;31mException\u001b[0m                                 Traceback (most recent call last)",
      "\u001b[0;32m<ipython-input-54-aa45ac9af62b>\u001b[0m in \u001b[0;36m<module>\u001b[0;34m()\u001b[0m\n\u001b[1;32m      1\u001b[0m \u001b[0mgrades2\u001b[0m \u001b[0;34m=\u001b[0m \u001b[0;34m[\u001b[0m\u001b[0;36m78\u001b[0m\u001b[0;34m,\u001b[0m \u001b[0;36m75\u001b[0m\u001b[0;34m,\u001b[0m \u001b[0;36m80\u001b[0m\u001b[0;34m,\u001b[0m \u001b[0;36m99\u001b[0m\u001b[0;34m]\u001b[0m\u001b[0;34m\u001b[0m\u001b[0m\n\u001b[1;32m      2\u001b[0m \u001b[0mweights2\u001b[0m \u001b[0;34m=\u001b[0m \u001b[0;34m[\u001b[0m\u001b[0;36m110\u001b[0m\u001b[0;34m,\u001b[0m \u001b[0;36m10\u001b[0m\u001b[0;34m,\u001b[0m \u001b[0;34m-\u001b[0m\u001b[0;36m20\u001b[0m\u001b[0;34m]\u001b[0m\u001b[0;34m\u001b[0m\u001b[0m\n\u001b[0;32m----> 3\u001b[0;31m \u001b[0mgrade\u001b[0m\u001b[0;34m(\u001b[0m\u001b[0mgrades2\u001b[0m\u001b[0;34m,\u001b[0m \u001b[0mweights2\u001b[0m\u001b[0;34m)\u001b[0m\u001b[0;34m\u001b[0m\u001b[0m\n\u001b[0m",
      "\u001b[0;32m<ipython-input-52-3b798decb80d>\u001b[0m in \u001b[0;36mgrade\u001b[0;34m(grades, percentages)\u001b[0m\n\u001b[1;32m      6\u001b[0m             \u001b[0;32mraise\u001b[0m \u001b[0mException\u001b[0m\u001b[0;34m(\u001b[0m\u001b[0mstr\u001b[0m\u001b[0;34m(\u001b[0m\u001b[0mpercentages\u001b[0m\u001b[0;34m[\u001b[0m\u001b[0mi\u001b[0m\u001b[0;34m]\u001b[0m\u001b[0;34m)\u001b[0m \u001b[0;34m+\u001b[0m \u001b[0;34m\" is less than 0.\"\u001b[0m\u001b[0;34m)\u001b[0m\u001b[0;34m\u001b[0m\u001b[0m\n\u001b[1;32m      7\u001b[0m         \u001b[0;32melif\u001b[0m \u001b[0mpercentages\u001b[0m\u001b[0;34m[\u001b[0m\u001b[0mi\u001b[0m\u001b[0;34m]\u001b[0m \u001b[0;34m>\u001b[0m \u001b[0;36m100\u001b[0m\u001b[0;34m:\u001b[0m\u001b[0;34m\u001b[0m\u001b[0m\n\u001b[0;32m----> 8\u001b[0;31m             \u001b[0;32mraise\u001b[0m \u001b[0mException\u001b[0m\u001b[0;34m(\u001b[0m\u001b[0mstr\u001b[0m\u001b[0;34m(\u001b[0m\u001b[0mpercentages\u001b[0m\u001b[0;34m[\u001b[0m\u001b[0mi\u001b[0m\u001b[0;34m]\u001b[0m\u001b[0;34m)\u001b[0m \u001b[0;34m+\u001b[0m \u001b[0;34m\" is greater than 100.\"\u001b[0m\u001b[0;34m)\u001b[0m\u001b[0;34m\u001b[0m\u001b[0m\n\u001b[0m\u001b[1;32m      9\u001b[0m         \u001b[0;32melse\u001b[0m\u001b[0;34m:\u001b[0m\u001b[0;34m\u001b[0m\u001b[0m\n\u001b[1;32m     10\u001b[0m             \u001b[0mweighted_average\u001b[0m \u001b[0;34m=\u001b[0m \u001b[0mweighted_average\u001b[0m \u001b[0;34m+\u001b[0m \u001b[0mgrades\u001b[0m\u001b[0;34m[\u001b[0m\u001b[0mi\u001b[0m\u001b[0;34m]\u001b[0m \u001b[0;34m*\u001b[0m \u001b[0mpercentages\u001b[0m\u001b[0;34m[\u001b[0m\u001b[0mi\u001b[0m\u001b[0;34m]\u001b[0m\u001b[0;34m\u001b[0m\u001b[0m\n",
      "\u001b[0;31mException\u001b[0m: 110 is greater than 100."
     ]
    }
   ],
   "source": [
    "grades2 = [78, 75, 80, 99]\n",
    "weights2 = [110, 10, -20]\n",
    "grade(grades2, weights2)"
   ]
  },
  {
   "cell_type": "code",
   "execution_count": 55,
   "metadata": {},
   "outputs": [
    {
     "ename": "Exception",
     "evalue": "-10 is less than 0.",
     "output_type": "error",
     "traceback": [
      "\u001b[0;31m---------------------------------------------------------------------------\u001b[0m",
      "\u001b[0;31mException\u001b[0m                                 Traceback (most recent call last)",
      "\u001b[0;32m<ipython-input-55-bb79508847c2>\u001b[0m in \u001b[0;36m<module>\u001b[0;34m()\u001b[0m\n\u001b[1;32m      1\u001b[0m \u001b[0mgrades3\u001b[0m \u001b[0;34m=\u001b[0m \u001b[0;34m[\u001b[0m\u001b[0;36m78\u001b[0m\u001b[0;34m,\u001b[0m \u001b[0;36m75\u001b[0m\u001b[0;34m,\u001b[0m \u001b[0;36m80\u001b[0m\u001b[0;34m,\u001b[0m \u001b[0;36m99\u001b[0m\u001b[0;34m]\u001b[0m\u001b[0;34m\u001b[0m\u001b[0m\n\u001b[1;32m      2\u001b[0m \u001b[0mweights3\u001b[0m \u001b[0;34m=\u001b[0m \u001b[0;34m[\u001b[0m\u001b[0;36m30\u001b[0m\u001b[0;34m,\u001b[0m \u001b[0;36m25\u001b[0m\u001b[0;34m,\u001b[0m \u001b[0;36m25\u001b[0m\u001b[0;34m,\u001b[0m \u001b[0;34m-\u001b[0m\u001b[0;36m10\u001b[0m\u001b[0;34m]\u001b[0m\u001b[0;34m\u001b[0m\u001b[0m\n\u001b[0;32m----> 3\u001b[0;31m \u001b[0mgrade\u001b[0m\u001b[0;34m(\u001b[0m\u001b[0mgrades3\u001b[0m\u001b[0;34m,\u001b[0m \u001b[0mweights3\u001b[0m\u001b[0;34m)\u001b[0m\u001b[0;34m\u001b[0m\u001b[0m\n\u001b[0m",
      "\u001b[0;32m<ipython-input-52-3b798decb80d>\u001b[0m in \u001b[0;36mgrade\u001b[0;34m(grades, percentages)\u001b[0m\n\u001b[1;32m      4\u001b[0m     \u001b[0;32mfor\u001b[0m \u001b[0mi\u001b[0m \u001b[0;32min\u001b[0m \u001b[0mrange\u001b[0m\u001b[0;34m(\u001b[0m\u001b[0mlen\u001b[0m\u001b[0;34m(\u001b[0m\u001b[0mgrades\u001b[0m\u001b[0;34m)\u001b[0m\u001b[0;34m)\u001b[0m\u001b[0;34m:\u001b[0m\u001b[0;34m\u001b[0m\u001b[0m\n\u001b[1;32m      5\u001b[0m         \u001b[0;32mif\u001b[0m \u001b[0mpercentages\u001b[0m\u001b[0;34m[\u001b[0m\u001b[0mi\u001b[0m\u001b[0;34m]\u001b[0m \u001b[0;34m<\u001b[0m \u001b[0;36m0\u001b[0m\u001b[0;34m:\u001b[0m\u001b[0;34m\u001b[0m\u001b[0m\n\u001b[0;32m----> 6\u001b[0;31m             \u001b[0;32mraise\u001b[0m \u001b[0mException\u001b[0m\u001b[0;34m(\u001b[0m\u001b[0mstr\u001b[0m\u001b[0;34m(\u001b[0m\u001b[0mpercentages\u001b[0m\u001b[0;34m[\u001b[0m\u001b[0mi\u001b[0m\u001b[0;34m]\u001b[0m\u001b[0;34m)\u001b[0m \u001b[0;34m+\u001b[0m \u001b[0;34m\" is less than 0.\"\u001b[0m\u001b[0;34m)\u001b[0m\u001b[0;34m\u001b[0m\u001b[0m\n\u001b[0m\u001b[1;32m      7\u001b[0m         \u001b[0;32melif\u001b[0m \u001b[0mpercentages\u001b[0m\u001b[0;34m[\u001b[0m\u001b[0mi\u001b[0m\u001b[0;34m]\u001b[0m \u001b[0;34m>\u001b[0m \u001b[0;36m100\u001b[0m\u001b[0;34m:\u001b[0m\u001b[0;34m\u001b[0m\u001b[0m\n\u001b[1;32m      8\u001b[0m             \u001b[0;32mraise\u001b[0m \u001b[0mException\u001b[0m\u001b[0;34m(\u001b[0m\u001b[0mstr\u001b[0m\u001b[0;34m(\u001b[0m\u001b[0mpercentages\u001b[0m\u001b[0;34m[\u001b[0m\u001b[0mi\u001b[0m\u001b[0;34m]\u001b[0m\u001b[0;34m)\u001b[0m \u001b[0;34m+\u001b[0m \u001b[0;34m\" is greater than 100.\"\u001b[0m\u001b[0;34m)\u001b[0m\u001b[0;34m\u001b[0m\u001b[0m\n",
      "\u001b[0;31mException\u001b[0m: -10 is less than 0."
     ]
    }
   ],
   "source": [
    "grades3 = [78, 75, 80, 99]\n",
    "weights3 = [30, 25, 25, -10]\n",
    "grade(grades3, weights3)"
   ]
  },
  {
   "cell_type": "code",
   "execution_count": 56,
   "metadata": {},
   "outputs": [
    {
     "data": {
      "text/plain": [
       "81.95"
      ]
     },
     "execution_count": 56,
     "metadata": {},
     "output_type": "execute_result"
    }
   ],
   "source": [
    "grades4 = [78, 75, 80, 99]\n",
    "weights4 = [30, 25, 25, 20]\n",
    "grade(grades4, weights4)"
   ]
  }
 ],
 "metadata": {
  "kernelspec": {
   "display_name": "Python 3",
   "language": "python",
   "name": "python3"
  },
  "language_info": {
   "codemirror_mode": {
    "name": "ipython",
    "version": 3
   },
   "file_extension": ".py",
   "mimetype": "text/x-python",
   "name": "python",
   "nbconvert_exporter": "python",
   "pygments_lexer": "ipython3",
   "version": "3.6.2"
  }
 },
 "nbformat": 4,
 "nbformat_minor": 2
}
