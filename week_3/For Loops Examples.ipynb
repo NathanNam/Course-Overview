{
 "cells": [
  {
   "cell_type": "markdown",
   "metadata": {},
   "source": [
    "# For Loops\n"
   ]
  },
  {
   "cell_type": "code",
   "execution_count": 1,
   "metadata": {},
   "outputs": [
    {
     "name": "stdout",
     "output_type": "stream",
     "text": [
      "5\n",
      "4\n",
      "3\n",
      "2\n",
      "1\n",
      "Blast off!\n"
     ]
    }
   ],
   "source": [
    "countdown = 5\n",
    "for x in range(countdown, 0, -1):\n",
    "    print(x)\n",
    "print(\"Blast off!\")"
   ]
  },
  {
   "cell_type": "code",
   "execution_count": 2,
   "metadata": {},
   "outputs": [
    {
     "name": "stdout",
     "output_type": "stream",
     "text": [
      "Enter an integer: 5\n",
      "0 1 2 3 4 5 \n",
      "0 1 2 3 4 \n",
      "0 1 2 3 \n",
      "0 1 2 \n",
      "0 1 \n",
      "0 \n"
     ]
    }
   ],
   "source": [
    "row = int(input(\"Enter an integer: \"))\n",
    "\n",
    "for x in range(row, -1, -1):\n",
    "    for j in range(x+1):\n",
    "        print(j, end=\" \")\n",
    "    print(\"\")\n"
   ]
  },
  {
   "cell_type": "code",
   "execution_count": 7,
   "metadata": {},
   "outputs": [
    {
     "name": "stdout",
     "output_type": "stream",
     "text": [
      "Enter your name: Nathan\n",
      "Nthn"
     ]
    }
   ],
   "source": [
    "x = input(\"Enter your name: \")\n",
    "\n",
    "for char in x:\n",
    "    if char.lower() not in \"aeiou\":\n",
    "        print(char, end=\"\")"
   ]
  },
  {
   "cell_type": "code",
   "execution_count": 9,
   "metadata": {},
   "outputs": [
    {
     "name": "stdout",
     "output_type": "stream",
     "text": [
      "Paul, as himself\n",
      "Nathan, as himself\n",
      "Lisa, as himself\n",
      "Brandon, as himself\n"
     ]
    }
   ],
   "source": [
    "x = [\"Paul\", \"Nathan\", \"Lisa\", \"Brandon\"]\n",
    "\n",
    "for name in x:\n",
    "    print(name + \", as himself\")"
   ]
  }
 ],
 "metadata": {
  "kernelspec": {
   "display_name": "Python 3",
   "language": "python",
   "name": "python3"
  },
  "language_info": {
   "codemirror_mode": {
    "name": "ipython",
    "version": 3
   },
   "file_extension": ".py",
   "mimetype": "text/x-python",
   "name": "python",
   "nbconvert_exporter": "python",
   "pygments_lexer": "ipython3",
   "version": "3.6.2"
  }
 },
 "nbformat": 4,
 "nbformat_minor": 2
}
