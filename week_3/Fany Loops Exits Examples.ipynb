{
 "cells": [
  {
   "cell_type": "markdown",
   "metadata": {},
   "source": [
    "# Fancy Loop Exits\n",
    "Example: test if x is prime"
   ]
  },
  {
   "cell_type": "code",
   "execution_count": 5,
   "metadata": {},
   "outputs": [
    {
     "name": "stdout",
     "output_type": "stream",
     "text": [
      "Enter a number: 23\n",
      "23 is prime.\n"
     ]
    }
   ],
   "source": [
    "x = int(input(\"Enter a number: \"))\n",
    "prime = True\n",
    "\n",
    "for i in range(2, x):\n",
    "    # check if i divides x.\n",
    "    if x % i == 0:\n",
    "        # now I know x is not prime.\n",
    "        prime = False\n",
    "\n",
    "if prime == True:\n",
    "    print(x,\"is prime.\")\n",
    "else:\n",
    "    print(x, \"is not prime.\")\n",
    "        "
   ]
  },
  {
   "cell_type": "code",
   "execution_count": 10,
   "metadata": {},
   "outputs": [
    {
     "name": "stdout",
     "output_type": "stream",
     "text": [
      "Enter a number: 200000000000000000007\n",
      "200000000000000000007 is not prime.\n"
     ]
    }
   ],
   "source": [
    "x = int(input(\"Enter a number: \"))\n",
    "prime = True\n",
    "\n",
    "i = 2\n",
    "while i < x and prime:\n",
    "    # check if i divides x.\n",
    "    if x % i == 0:\n",
    "        # now I know x is not prime.\n",
    "        prime = False\n",
    "    i +=1\n",
    "\n",
    "if prime == True:\n",
    "    print(x,\"is prime.\")\n",
    "else:\n",
    "    print(x, \"is not prime.\")"
   ]
  },
  {
   "cell_type": "code",
   "execution_count": 9,
   "metadata": {},
   "outputs": [
    {
     "name": "stdout",
     "output_type": "stream",
     "text": [
      "Enter a number: 2000000001\n",
      "2000000001 is not prime.\n"
     ]
    }
   ],
   "source": [
    "x = int(input(\"Enter a number: \"))\n",
    "prime = True\n",
    "\n",
    "for i in range(2, x):\n",
    "    # check if i divides x.\n",
    "    if x % i == 0:\n",
    "        # now I know x is not prime.\n",
    "        prime = False\n",
    "        break\n",
    "\n",
    "if prime == True:\n",
    "    print(x,\"is prime.\")\n",
    "else:\n",
    "    print(x, \"is not prime.\")"
   ]
  },
  {
   "cell_type": "code",
   "execution_count": 12,
   "metadata": {},
   "outputs": [
    {
     "name": "stdout",
     "output_type": "stream",
     "text": [
      "Enter a number: 101\n",
      "101 is prime.\n"
     ]
    }
   ],
   "source": [
    "x = int(input(\"Enter a number: \"))\n",
    "\n",
    "for i in range(2, x):\n",
    "    # check if i divides x.\n",
    "    if x % i == 0:\n",
    "        # now I know x is not prime.\n",
    "        print(x, \"is not prime.\")\n",
    "        break\n",
    "else:\n",
    "    # when the for loop ends normally -> x is prime.\n",
    "    print(x,\"is prime.\")"
   ]
  },
  {
   "cell_type": "code",
   "execution_count": null,
   "metadata": {
    "collapsed": true
   },
   "outputs": [],
   "source": [
    "x = int(input(\"Enter a number: \"))\n",
    "\n",
    "for i in range(2, x):\n",
    "    # check if i divides x.\n",
    "    if x % i == 0:\n",
    "        # now I know x is not prime.\n",
    "        print(x, \"is not prime.\")\n",
    "        break\n",
    "else:\n",
    "    # when the for loop ends normally -> x is prime.\n",
    "    print(x,\"is prime.\")"
   ]
  },
  {
   "cell_type": "markdown",
   "metadata": {},
   "source": [
    "Example: are the vowels in a word in alphabetical order?"
   ]
  },
  {
   "cell_type": "code",
   "execution_count": 16,
   "metadata": {},
   "outputs": [
    {
     "name": "stdout",
     "output_type": "stream",
     "text": [
      "Enter a word: lisa\n",
      "i\n",
      "a\n",
      "The vowels in lisa are out of order.\n"
     ]
    }
   ],
   "source": [
    "word = input(\"Enter a word: \").lower()\n",
    "last = \"a\"\n",
    "\n",
    "for letter in word:\n",
    "    if letter in \"aeiou\":\n",
    "        print(letter)\n",
    "        \n",
    "        #check to see if order looks good\n",
    "        if letter < last:\n",
    "            print(\"The vowels in\", word,\"are out of order.\")\n",
    "            break\n",
    "        last = letter\n",
    "        \n",
    "else:\n",
    "    print(\"The vowels in\", word,\"are in order.\")"
   ]
  },
  {
   "cell_type": "code",
   "execution_count": null,
   "metadata": {
    "collapsed": true
   },
   "outputs": [],
   "source": [
    "word = input(\"Enter a word: \").lower()\n",
    "last = \"a\"\n",
    "\n",
    "for letter in word:\n",
    "    if letter not in \"aeiou\":\n",
    "        continue\n",
    "    print(letter)\n",
    "        \n",
    "    #check to see if order looks good\n",
    "    if letter < last:\n",
    "        print(\"The vowels in\", word,\"are out of order.\")\n",
    "        break\n",
    "    last = letter\n",
    "\n",
    "else:\n",
    "    print(\"The vowels in\", word,\"are in order.\")"
   ]
  }
 ],
 "metadata": {
  "kernelspec": {
   "display_name": "Python 3",
   "language": "python",
   "name": "python3"
  },
  "language_info": {
   "codemirror_mode": {
    "name": "ipython",
    "version": 3
   },
   "file_extension": ".py",
   "mimetype": "text/x-python",
   "name": "python",
   "nbconvert_exporter": "python",
   "pygments_lexer": "ipython3",
   "version": "3.6.2"
  }
 },
 "nbformat": 4,
 "nbformat_minor": 2
}
