{
 "cells": [
  {
   "cell_type": "markdown",
   "metadata": {},
   "source": [
    "# For Loops\n",
    "1. Write a script that prompts the user for two words. Print all the letters that are common to both words, in alphabetical order.\n",
    "Enter one word: Home\n",
    "Enter another word: meter\n",
    "Letters in common: em\n",
    "In [ ]: name = input(\"Enter your name: \")"
   ]
  },
  {
   "cell_type": "code",
   "execution_count": 8,
   "metadata": {},
   "outputs": [
    {
     "name": "stdout",
     "output_type": "stream",
     "text": [
      "Enter one word: Home\n",
      "Enter another word: meter\n",
      "Letters in common:  em\n"
     ]
    }
   ],
   "source": [
    "word1 = input(\"Enter one word: \").lower()\n",
    "word2 = input(\"Enter another word: \").lower()\n",
    "common = \"\"\n",
    "\n",
    "for char in word1:\n",
    "    if char in word2:\n",
    "        if char not in common:\n",
    "            common += char\n",
    "\n",
    "print(\"Letters in common: \", \"\".join(sorted(common)))"
   ]
  },
  {
   "cell_type": "markdown",
   "metadata": {},
   "source": [
    "2. You place a pawn at the top left corner of an n-by-n chess board, labeled (0,0). For each move, you have a choice: move the pawn down a single space, or move the pawn down one space and right one space. That is, if the pawn is at position (i,j), you can move the pawn to (i+1,j) or (i+1, j+1).\n",
    "Ask the user for the size of a chessboard, n. Find the number of different paths the pawn could take to reach each position on the chess board. For example, there are two different paths the pawn can take to reach (2,1):\n",
    "• (0,0) -> (1,0) -> (2,1) • (0,0) -> (1,1) -> (2,1)\n",
    "print the board with the number of ways to reach each square labeled as shown below. Enter a size: 3\n",
    "100 110 121\n",
    "Below is the code to take a convert that board size input.\n",
    "In [ ]: n = int(input(\"Enter a board size: \"))"
   ]
  },
  {
   "cell_type": "code",
   "execution_count": 29,
   "metadata": {},
   "outputs": [
    {
     "name": "stdout",
     "output_type": "stream",
     "text": [
      "Enter a board size: 7\n",
      "1 0 0 0 0 0 0 \n",
      "1 1 0 0 0 0 0 \n",
      "1 2 1 0 0 0 0 \n",
      "1 3 3 1 0 0 0 \n",
      "1 4 6 4 1 0 0 \n",
      "1 5 10 10 5 1 0 \n",
      "1 6 15 20 15 6 1 \n"
     ]
    }
   ],
   "source": [
    "n = int(input(\"Enter a board size: \"))\n",
    "row = 3\n",
    "pascal = [1,1]\n",
    "pascal_next = []\n",
    "i = 0\n",
    "j = 1\n",
    "sub = 0\n",
    "\n",
    "if n < 2:\n",
    "    print (1)\n",
    "elif n < 3:\n",
    "    print (1,0)\n",
    "    print (1,1)\n",
    "else:\n",
    "    #print the first row\n",
    "    print(1,end=\" \")\n",
    "    for zero in range(n-1):\n",
    "        print(0,end=\" \")\n",
    "    print(\"\")\n",
    "    \n",
    "    #print the second row\n",
    "    print(1,1,end=\" \")\n",
    "    for zero in range(n-2):\n",
    "        print(0,end=\" \")\n",
    "    print(\"\")\n",
    "      \n",
    "    for sub in range(2,n+1):\n",
    "        # compute the nth row of Pascal's triangle\n",
    "        while row <= sub:\n",
    "            pascal_next.append(1)\n",
    "            while j < len(pascal):\n",
    "                pascal_next.append(pascal[i]+ pascal[j])\n",
    "                i+=1\n",
    "                j+=1\n",
    "            pascal_next.append(1)\n",
    "            pascal = pascal_next\n",
    "            pascal_next = []\n",
    "            \n",
    "            # print the nth row of Pascal's triangle    \n",
    "            for i in range(len(pascal)):\n",
    "                print(pascal[i], end=\" \")\n",
    "            \n",
    "            # print zeros   \n",
    "            for zero in range(n-len(pascal)):\n",
    "                print(0,end=\" \")\n",
    "            print(\"\")\n",
    "            \n",
    "            # prepare for the next row of Pascal's triangle\n",
    "            row +=1\n",
    "            i=0\n",
    "            j=1"
   ]
  },
  {
   "cell_type": "markdown",
   "metadata": {
    "collapsed": true
   },
   "source": [
    "# 2 Bisection Search\n",
    "1. Try inputting 0.25 into the bisection search algorithm below and confirm that it doesn’t work. Then correct the algorithm so that it works for all positive numbers."
   ]
  },
  {
   "cell_type": "code",
   "execution_count": 30,
   "metadata": {},
   "outputs": [
    {
     "name": "stdout",
     "output_type": "stream",
     "text": [
      "enter a number:5\n",
      "low = 0.0 high = 5.0\n",
      "low = 0.0 high = 2.5\n",
      "low = 1.25 high = 2.5\n",
      "low = 1.875 high = 2.5\n",
      "low = 2.1875 high = 2.5\n",
      "low = 2.1875 high = 2.34375\n",
      "low = 2.1875 high = 2.265625\n",
      "low = 2.2265625 high = 2.265625\n",
      "low = 2.2265625 high = 2.24609375\n",
      "low = 2.2265625 high = 2.236328125\n",
      "low = 2.2314453125 high = 2.236328125\n",
      "low = 2.23388671875 high = 2.236328125\n",
      "low = 2.235107421875 high = 2.236328125\n",
      "low = 2.2357177734375 high = 2.236328125\n",
      "low = 2.23602294921875 high = 2.236328125\n",
      "low = 2.23602294921875 high = 2.236175537109375\n",
      "low = 2.23602294921875 high = 2.2360992431640625\n",
      "low = 2.2360610961914062 high = 2.2360992431640625\n",
      "number of guesses = 18\n",
      "2.2360706329345703 is close to square root of 5.0\n"
     ]
    }
   ],
   "source": [
    "## Bisection Search to Find a Square Root\n",
    "x = float(input(\"enter a number:\"))\n",
    "\n",
    "epsilon = 0.00001\n",
    "num_guesses = 0\n",
    "low = 0.0\n",
    "\n",
    "if x < 1:\n",
    "    high = 1\n",
    "else:\n",
    "    high = x\n",
    "    \n",
    "ans = (high + low)/2.0\n",
    "while high - low >= 2 * epsilon:\n",
    "    print(\"low =\",low,\"high =\", high)\n",
    "    num_guesses += 1\n",
    "    if ans ** 2 < x:\n",
    "        low = ans\n",
    "    else:\n",
    "        high = ans\n",
    "    ans = (high + low)/2.0\n",
    "print(\"number of guesses =\", num_guesses)\n",
    "print(ans, \"is close to square root of\", x)"
   ]
  },
  {
   "cell_type": "markdown",
   "metadata": {},
   "source": [
    "You run the bisection search algorithm to find the square root of x to a precision of epsilon. Write down a formula for how many loop iterations it takes for the algorithm to complete. Hint: first suppose that x has the special value epsilon ∗ 2n, where n is an integer."
   ]
  },
  {
   "cell_type": "markdown",
   "metadata": {},
   "source": [
    "# Part 3 Bisection Search Part 2\n",
    "\n",
    "1. In your own words, why does the bisection search algorithm for finding square roots work faster on large numbers than the brute force algorithm? Write your answer below.\n",
    " -> While the brute force alogorithm needs to calcuate ans ** 2 until it ans ** 2 is close to x by increasing the ans by an epsilon, the bisection search algorithm helps drop half of the potential answers.\n",
    "\n",
    "2. In your own words, why does Newton’s method for finding square roots outperform both the brute force and the bisection search algorithms? Write your answer below.\n",
    " -> Newton's method <f(ans) = ans^2 - x> helps drop the larger amout of the potential, but not close answers than the Biscetion Search.\n",
    "\n",
    "3. Implement this digit-by-digit algorithm to find the square root of x to a precision of epsilon. \n",
    "\n",
    "4. Begin with a step of 1 and guess of zero.\n",
    "\n",
    "5. Increase the guess by step repeatedly as long as doing so would not cause guess^2 to exceed x. \n",
    "\n",
    "6. If the step is greater than epsilon, divide the step by 10 and go back to step 2.\n",
    "\n",
    "Notice that once a digit has been found, it is never changed again. Try using your script to find the square root of 10 to 10 decimal places."
   ]
  },
  {
   "cell_type": "code",
   "execution_count": 25,
   "metadata": {},
   "outputs": [
    {
     "name": "stdout",
     "output_type": "stream",
     "text": [
      "enter a number:10\n",
      "number of guesses = 80\n",
      "3.1622776601599987 is close to square root of 10.0\n"
     ]
    }
   ],
   "source": [
    "## digit-by-digit algorithm\n",
    "x = float(input(\"enter a number:\"))\n",
    "\n",
    "epsilon = 0.0000000001\n",
    "num_guesses = 0\n",
    "guess = 0\n",
    "step = 1\n",
    "\n",
    "while step > epsilon:\n",
    "    while guess**2 < x:\n",
    "        num_guesses += 1\n",
    "        guess += step\n",
    "    \n",
    "    if step > epsilon:\n",
    "        step = step / 10\n",
    "        \n",
    "    while guess**2 > x:\n",
    "        num_guesses += 1\n",
    "        guess -= step\n",
    "    \n",
    "  \n",
    "\n",
    "print(\"number of guesses =\", num_guesses)\n",
    "print(guess, \"is close to square root of\", x)"
   ]
  },
  {
   "cell_type": "markdown",
   "metadata": {},
   "source": [
    "# Part 4 Comprehensions\n",
    "1. Use a comprehension to make a list of the square numbers below 100 that give a remainder of 1 when divided by 3."
   ]
  },
  {
   "cell_type": "code",
   "execution_count": 5,
   "metadata": {},
   "outputs": [
    {
     "data": {
      "text/plain": [
       "[1,\n",
       " 4,\n",
       " 16,\n",
       " 25,\n",
       " 49,\n",
       " 64,\n",
       " 100,\n",
       " 121,\n",
       " 169,\n",
       " 196,\n",
       " 256,\n",
       " 289,\n",
       " 361,\n",
       " 400,\n",
       " 484,\n",
       " 529,\n",
       " 625,\n",
       " 676,\n",
       " 784,\n",
       " 841,\n",
       " 961,\n",
       " 1024,\n",
       " 1156,\n",
       " 1225,\n",
       " 1369,\n",
       " 1444,\n",
       " 1600,\n",
       " 1681,\n",
       " 1849,\n",
       " 1936,\n",
       " 2116,\n",
       " 2209,\n",
       " 2401,\n",
       " 2500,\n",
       " 2704,\n",
       " 2809,\n",
       " 3025,\n",
       " 3136,\n",
       " 3364,\n",
       " 3481,\n",
       " 3721,\n",
       " 3844,\n",
       " 4096,\n",
       " 4225,\n",
       " 4489,\n",
       " 4624,\n",
       " 4900,\n",
       " 5041,\n",
       " 5329,\n",
       " 5476,\n",
       " 5776,\n",
       " 5929,\n",
       " 6241,\n",
       " 6400,\n",
       " 6724,\n",
       " 6889,\n",
       " 7225,\n",
       " 7396,\n",
       " 7744,\n",
       " 7921,\n",
       " 8281,\n",
       " 8464,\n",
       " 8836,\n",
       " 9025,\n",
       " 9409,\n",
       " 9604]"
      ]
     },
     "execution_count": 5,
     "metadata": {},
     "output_type": "execute_result"
    }
   ],
   "source": [
    "[x**2 for x in range(100) if x**2%3 == 1]\n"
   ]
  },
  {
   "cell_type": "markdown",
   "metadata": {},
   "source": [
    "2. A string is defined in the code snippet below. Split it into individual words and use a comprehension to make a list of the first letters of each word in the snippet."
   ]
  },
  {
   "cell_type": "code",
   "execution_count": 10,
   "metadata": {},
   "outputs": [
    {
     "data": {
      "text/plain": [
       "['I',\n",
       " 'l',\n",
       " 'm',\n",
       " 'l',\n",
       " 'a',\n",
       " 'q',\n",
       " 'm',\n",
       " 'a',\n",
       " 'a',\n",
       " 't',\n",
       " 'N',\n",
       " 'e',\n",
       " 'm',\n",
       " 'n',\n",
       " 't',\n",
       " 'm',\n",
       " 'n',\n",
       " 't',\n",
       " 's',\n",
       " 'n',\n",
       " 'm',\n",
       " 't',\n",
       " 'a',\n",
       " 'a',\n",
       " 't',\n",
       " 'b',\n",
       " 'F',\n",
       " 't',\n",
       " 't',\n",
       " 's',\n",
       " 'o',\n",
       " 'l',\n",
       " 'I',\n",
       " 'f']"
      ]
     },
     "execution_count": 10,
     "metadata": {},
     "output_type": "execute_result"
    }
   ],
   "source": [
    "text = \"I live my life a quarter mile at a time. \\\n",
    "Nothing else matters: not the mortgage, not the store, \\\n",
    "not my team and all their bullshit. \\\n",
    "For those ten seconds or less, I’m free.\"\n",
    "\n",
    "# the slashes just mean that the string continues onto the next line # if you print the text, it will make no difference\n",
    "[x[0] for x in text.split()]"
   ]
  },
  {
   "cell_type": "markdown",
   "metadata": {},
   "source": [
    "3. A Pythagorean triple is a set (x,y,z), with positive integers x≤y≤z such that x2+y2=z2. Use a comprehension to make a list of all Pythagorean triples with numbers below 25."
   ]
  },
  {
   "cell_type": "code",
   "execution_count": 14,
   "metadata": {},
   "outputs": [
    {
     "data": {
      "text/plain": [
       "[(3, 4, 5), (5, 12, 13), (6, 8, 10), (8, 15, 17), (9, 12, 15), (12, 16, 20)]"
      ]
     },
     "execution_count": 14,
     "metadata": {},
     "output_type": "execute_result"
    }
   ],
   "source": [
    "[(x,y,z) for x in range(25) for y in range(25) for z in range(25) if x>0 and x<=y and y<=z and x**2 + y**2 == z**2]"
   ]
  },
  {
   "cell_type": "markdown",
   "metadata": {},
   "source": [
    "4.  Given a word, provided below, use a comprehension to make a list of all strings that can be formed by deleting exactly one character from the word.\n",
    "word = \"Welcomed\""
   ]
  },
  {
   "cell_type": "code",
   "execution_count": 39,
   "metadata": {},
   "outputs": [
    {
     "data": {
      "text/plain": [
       "['elcomed',\n",
       " 'Wlcomed',\n",
       " 'Wecomed',\n",
       " 'Welomed',\n",
       " 'Welcmed',\n",
       " 'Welcoed',\n",
       " 'Welcomd',\n",
       " 'Welcome']"
      ]
     },
     "execution_count": 39,
     "metadata": {},
     "output_type": "execute_result"
    }
   ],
   "source": [
    "word = \"Welcomed\"\n",
    "[word[:i]+word[i+1:] for i in range(len(word))]"
   ]
  },
  {
   "cell_type": "markdown",
   "metadata": {},
   "source": [
    "5. Given a word, provided below, use a comprehension to make a list of all strings that can be formed by replacing exactly one vowel in the word with a different vowel."
   ]
  },
  {
   "cell_type": "code",
   "execution_count": 44,
   "metadata": {},
   "outputs": [
    {
     "data": {
      "text/plain": [
       "['Baoted',\n",
       " 'Beoted',\n",
       " 'Bioted',\n",
       " 'Buoted',\n",
       " 'Boated',\n",
       " 'Boeted',\n",
       " 'Boited',\n",
       " 'Bouted',\n",
       " 'Bootad',\n",
       " 'Bootid',\n",
       " 'Bootod',\n",
       " 'Bootud']"
      ]
     },
     "execution_count": 44,
     "metadata": {},
     "output_type": "execute_result"
    }
   ],
   "source": [
    "word = \"Booted\"\n",
    "[word[:i]+ y + word[i+1:] for i in range(len(word)) for y in \"aeiou\" if word[i] in \"aeiou\" and word[i] != y]"
   ]
  }
 ],
 "metadata": {
  "kernelspec": {
   "display_name": "Python 3",
   "language": "python",
   "name": "python3"
  },
  "language_info": {
   "codemirror_mode": {
    "name": "ipython",
    "version": 3
   },
   "file_extension": ".py",
   "mimetype": "text/x-python",
   "name": "python",
   "nbconvert_exporter": "python",
   "pygments_lexer": "ipython3",
   "version": "3.6.2"
  }
 },
 "nbformat": 4,
 "nbformat_minor": 2
}
