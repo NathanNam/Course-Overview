{
 "cells": [
  {
   "cell_type": "markdown",
   "metadata": {},
   "source": [
    "# Arrays\n",
    "\n",
    "available in numpy\n",
    "\n",
    "optimized for computational performance"
   ]
  },
  {
   "cell_type": "code",
   "execution_count": 1,
   "metadata": {},
   "outputs": [],
   "source": [
    "import numpy as np"
   ]
  },
  {
   "cell_type": "code",
   "execution_count": 5,
   "metadata": {},
   "outputs": [
    {
     "data": {
      "text/plain": [
       "array([ 0,  1,  2,  3,  4,  5,  6,  7,  8,  9, 10, 11, 12, 13, 14, 15, 16,\n",
       "       17, 18, 19])"
      ]
     },
     "execution_count": 5,
     "metadata": {},
     "output_type": "execute_result"
    }
   ],
   "source": [
    "np.arange(0,20)"
   ]
  },
  {
   "cell_type": "code",
   "execution_count": 7,
   "metadata": {},
   "outputs": [
    {
     "data": {
      "text/plain": [
       "array([ 0,  1,  2,  3,  4,  5,  6,  7,  8,  9, 10, 11, 12, 13, 14, 15, 16,\n",
       "       17, 18, 19])"
      ]
     },
     "execution_count": 7,
     "metadata": {},
     "output_type": "execute_result"
    }
   ],
   "source": [
    "x = np.arange(0,20)\n",
    "x\n"
   ]
  },
  {
   "cell_type": "code",
   "execution_count": 10,
   "metadata": {},
   "outputs": [
    {
     "data": {
      "text/plain": [
       "array([ 0,  1, 12,  3,  4,  5,  6,  7,  8,  9, 10, 11, 12, 13, 14, 15, 16,\n",
       "       17, 18, 19])"
      ]
     },
     "execution_count": 10,
     "metadata": {},
     "output_type": "execute_result"
    }
   ],
   "source": [
    "x[2] = 12\n",
    "x"
   ]
  },
  {
   "cell_type": "code",
   "execution_count": 13,
   "metadata": {},
   "outputs": [
    {
     "data": {
      "text/plain": [
       "dtype('int64')"
      ]
     },
     "execution_count": 13,
     "metadata": {},
     "output_type": "execute_result"
    }
   ],
   "source": [
    "x.dtype"
   ]
  },
  {
   "cell_type": "code",
   "execution_count": 15,
   "metadata": {},
   "outputs": [
    {
     "ename": "ValueError",
     "evalue": "invalid literal for int() with base 10: 'abcd'",
     "output_type": "error",
     "traceback": [
      "\u001b[0;31m---------------------------------------------------------------------------\u001b[0m",
      "\u001b[0;31mValueError\u001b[0m                                Traceback (most recent call last)",
      "\u001b[0;32m<ipython-input-15-18f0db534817>\u001b[0m in \u001b[0;36m<module>\u001b[0;34m()\u001b[0m\n\u001b[0;32m----> 1\u001b[0;31m \u001b[0mx\u001b[0m\u001b[0;34m[\u001b[0m\u001b[0;36m10\u001b[0m\u001b[0;34m]\u001b[0m \u001b[0;34m=\u001b[0m \u001b[0;34m\"abcd\"\u001b[0m\u001b[0;34m\u001b[0m\u001b[0m\n\u001b[0m",
      "\u001b[0;31mValueError\u001b[0m: invalid literal for int() with base 10: 'abcd'"
     ]
    }
   ],
   "source": [
    "x[10] = \"abcd\""
   ]
  },
  {
   "cell_type": "code",
   "execution_count": 18,
   "metadata": {},
   "outputs": [
    {
     "ename": "AttributeError",
     "evalue": "'numpy.ndarray' object has no attribute 'pop'",
     "output_type": "error",
     "traceback": [
      "\u001b[0;31m---------------------------------------------------------------------------\u001b[0m",
      "\u001b[0;31mAttributeError\u001b[0m                            Traceback (most recent call last)",
      "\u001b[0;32m<ipython-input-18-e5f026e5bee7>\u001b[0m in \u001b[0;36m<module>\u001b[0;34m()\u001b[0m\n\u001b[0;32m----> 1\u001b[0;31m \u001b[0mx\u001b[0m\u001b[0;34m.\u001b[0m\u001b[0mpop\u001b[0m\u001b[0;34m(\u001b[0m\u001b[0;34m)\u001b[0m\u001b[0;34m\u001b[0m\u001b[0m\n\u001b[0m",
      "\u001b[0;31mAttributeError\u001b[0m: 'numpy.ndarray' object has no attribute 'pop'"
     ]
    }
   ],
   "source": [
    "x.pop()"
   ]
  },
  {
   "cell_type": "code",
   "execution_count": 20,
   "metadata": {},
   "outputs": [
    {
     "ename": "AttributeError",
     "evalue": "'numpy.ndarray' object has no attribute 'append'",
     "output_type": "error",
     "traceback": [
      "\u001b[0;31m---------------------------------------------------------------------------\u001b[0m",
      "\u001b[0;31mAttributeError\u001b[0m                            Traceback (most recent call last)",
      "\u001b[0;32m<ipython-input-20-9238ce552d8e>\u001b[0m in \u001b[0;36m<module>\u001b[0;34m()\u001b[0m\n\u001b[0;32m----> 1\u001b[0;31m \u001b[0mx\u001b[0m\u001b[0;34m.\u001b[0m\u001b[0mappend\u001b[0m\u001b[0;34m(\u001b[0m\u001b[0;36m3\u001b[0m\u001b[0;34m)\u001b[0m\u001b[0;34m\u001b[0m\u001b[0m\n\u001b[0m",
      "\u001b[0;31mAttributeError\u001b[0m: 'numpy.ndarray' object has no attribute 'append'"
     ]
    }
   ],
   "source": [
    "x.append(3)"
   ]
  },
  {
   "cell_type": "code",
   "execution_count": 22,
   "metadata": {},
   "outputs": [
    {
     "data": {
      "text/plain": [
       "array([[ 0.10255913,  0.83506888,  0.18183391,  0.051397  ,  0.42071607],\n",
       "       [ 0.11474137,  0.98666953,  0.68793415,  0.56520256,  0.20922355],\n",
       "       [ 0.08373955,  0.62794957,  0.02556085,  0.24680744,  0.19993966],\n",
       "       [ 0.5823502 ,  0.74592413,  0.62600173,  0.51983646,  0.62932912],\n",
       "       [ 0.02198428,  0.8697764 ,  0.45300575,  0.94961451,  0.6802887 ]])"
      ]
     },
     "execution_count": 22,
     "metadata": {},
     "output_type": "execute_result"
    }
   ],
   "source": [
    "np.random.rand(5,5)"
   ]
  },
  {
   "cell_type": "code",
   "execution_count": 24,
   "metadata": {},
   "outputs": [
    {
     "data": {
      "text/plain": [
       "array([[[ 0.52977985,  0.91908957,  0.83978767,  0.54623148,  0.12262097],\n",
       "        [ 0.68256966,  0.89706919,  0.45592227,  0.97352545,  0.93096239],\n",
       "        [ 0.42639652,  0.85448206,  0.34371754,  0.03367006,  0.34058131],\n",
       "        [ 0.61594494,  0.92835065,  0.79326455,  0.84582771,  0.44049249],\n",
       "        [ 0.01810077,  0.29653143,  0.69785823,  0.50100152,  0.90085376]],\n",
       "\n",
       "       [[ 0.90632673,  0.90337423,  0.54335846,  0.94422755,  0.97769955],\n",
       "        [ 0.69957852,  0.53175619,  0.7994875 ,  0.63360875,  0.98363862],\n",
       "        [ 0.17034726,  0.12824401,  0.27692785,  0.13271694,  0.92805321],\n",
       "        [ 0.32730785,  0.0721199 ,  0.62049816,  0.51641837,  0.10859007],\n",
       "        [ 0.73430802,  0.7403576 ,  0.99989684,  0.25951505,  0.32896552]],\n",
       "\n",
       "       [[ 0.92272339,  0.08165542,  0.2666094 ,  0.77963862,  0.53181509],\n",
       "        [ 0.36844876,  0.68172071,  0.69248202,  0.71323662,  0.16025038],\n",
       "        [ 0.76619151,  0.47905964,  0.17725966,  0.08739819,  0.73780871],\n",
       "        [ 0.99973669,  0.28013055,  0.92647968,  0.75705028,  0.32966556],\n",
       "        [ 0.9508042 ,  0.16793844,  0.14783163,  0.20472019,  0.48397302]],\n",
       "\n",
       "       [[ 0.76817507,  0.50488964,  0.89286566,  0.30610639,  0.44196357],\n",
       "        [ 0.59406801,  0.51122728,  0.8088788 ,  0.79925025,  0.47673434],\n",
       "        [ 0.53947482,  0.77636178,  0.56587847,  0.52993433,  0.95526762],\n",
       "        [ 0.20074289,  0.9707225 ,  0.72654819,  0.93319582,  0.30839057],\n",
       "        [ 0.68917382,  0.78542406,  0.16175393,  0.15076239,  0.49005575]],\n",
       "\n",
       "       [[ 0.78855916,  0.43938048,  0.0949239 ,  0.10148404,  0.35603925],\n",
       "        [ 0.94187311,  0.28095201,  0.10806642,  0.31018848,  0.0880376 ],\n",
       "        [ 0.15573326,  0.47993692,  0.43474964,  0.97373585,  0.50236783],\n",
       "        [ 0.3300525 ,  0.30724226,  0.23420404,  0.57965342,  0.12059408],\n",
       "        [ 0.97646115,  0.50641905,  0.3390696 ,  0.71199194,  0.17457969]]])"
      ]
     },
     "execution_count": 24,
     "metadata": {},
     "output_type": "execute_result"
    }
   ],
   "source": [
    "np.random.rand(5,5,5)"
   ]
  },
  {
   "cell_type": "code",
   "execution_count": 26,
   "metadata": {
    "collapsed": true
   },
   "outputs": [],
   "source": [
    "np.random?"
   ]
  },
  {
   "cell_type": "code",
   "execution_count": 28,
   "metadata": {},
   "outputs": [
    {
     "data": {
      "text/plain": [
       "array([ 0.37663254,  1.27148438,  0.81873423, -0.07266569,  0.31075631,\n",
       "        0.10295606, -0.22545556,  1.53893717,  1.54000159, -0.31198426,\n",
       "        0.46867018,  0.83946494, -1.6540726 ,  0.67343492,  1.44428821,\n",
       "        0.55326354, -1.85116151, -0.75620548, -2.00456977,  1.10140685])"
      ]
     },
     "execution_count": 28,
     "metadata": {},
     "output_type": "execute_result"
    }
   ],
   "source": [
    "np.random.randn(20)"
   ]
  },
  {
   "cell_type": "code",
   "execution_count": 29,
   "metadata": {},
   "outputs": [
    {
     "data": {
      "text/plain": [
       "array([-1.11230745,  0.78433219,  1.00489027, -0.05684344, -1.65775457,\n",
       "       -0.15507541,  0.8009685 , -0.15697492, -0.07609391,  0.81849987,\n",
       "        1.75743625, -0.299804  ,  0.38348179, -0.85707105, -0.2245469 ,\n",
       "        0.20916725, -0.51946147, -1.25363498,  1.06772034,  0.28164339])"
      ]
     },
     "execution_count": 29,
     "metadata": {},
     "output_type": "execute_result"
    }
   ],
   "source": [
    "ar = np.random.randn(20)\n",
    "ar"
   ]
  },
  {
   "cell_type": "code",
   "execution_count": 30,
   "metadata": {},
   "outputs": [
    {
     "data": {
      "text/plain": [
       "0.036928587331683804"
      ]
     },
     "execution_count": 30,
     "metadata": {},
     "output_type": "execute_result"
    }
   ],
   "source": [
    "ar.mean()"
   ]
  },
  {
   "cell_type": "code",
   "execution_count": 31,
   "metadata": {},
   "outputs": [
    {
     "data": {
      "text/plain": [
       "0.84164556541991586"
      ]
     },
     "execution_count": 31,
     "metadata": {},
     "output_type": "execute_result"
    }
   ],
   "source": [
    "ar.std()"
   ]
  },
  {
   "cell_type": "code",
   "execution_count": 33,
   "metadata": {},
   "outputs": [
    {
     "data": {
      "text/plain": [
       "array([[-1.11230745,  0.78433219,  1.00489027, -0.05684344],\n",
       "       [-1.65775457, -0.15507541,  0.8009685 , -0.15697492],\n",
       "       [-0.07609391,  0.81849987,  1.75743625, -0.299804  ],\n",
       "       [ 0.38348179, -0.85707105, -0.2245469 ,  0.20916725],\n",
       "       [-0.51946147, -1.25363498,  1.06772034,  0.28164339]])"
      ]
     },
     "execution_count": 33,
     "metadata": {},
     "output_type": "execute_result"
    }
   ],
   "source": [
    "ar = ar.reshape(5,4)\n",
    "ar"
   ]
  },
  {
   "cell_type": "code",
   "execution_count": 35,
   "metadata": {},
   "outputs": [
    {
     "data": {
      "text/plain": [
       "array([-0.59642712, -0.13258987,  0.88129369, -0.00456234])"
      ]
     },
     "execution_count": 35,
     "metadata": {},
     "output_type": "execute_result"
    }
   ],
   "source": [
    "ar.mean(axis = 0)"
   ]
  },
  {
   "cell_type": "code",
   "execution_count": 36,
   "metadata": {},
   "outputs": [
    {
     "data": {
      "text/plain": [
       "array([ 0.15501789, -0.2922091 ,  0.55000955, -0.12224223, -0.10593318])"
      ]
     },
     "execution_count": 36,
     "metadata": {},
     "output_type": "execute_result"
    }
   ],
   "source": [
    "ar.mean(axis = 1)"
   ]
  }
 ],
 "metadata": {
  "kernelspec": {
   "display_name": "Python 3",
   "language": "python",
   "name": "python3"
  },
  "language_info": {
   "codemirror_mode": {
    "name": "ipython",
    "version": 3
   },
   "file_extension": ".py",
   "mimetype": "text/x-python",
   "name": "python",
   "nbconvert_exporter": "python",
   "pygments_lexer": "ipython3",
   "version": "3.6.2"
  }
 },
 "nbformat": 4,
 "nbformat_minor": 2
}
