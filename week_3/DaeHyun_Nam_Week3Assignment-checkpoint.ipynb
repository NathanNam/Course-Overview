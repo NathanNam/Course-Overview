{
 "cells": [
  {
   "cell_type": "markdown",
   "metadata": {},
   "source": [
    "# HW3\n",
    "## Nathan (Dae Hyun) Nam\n",
    "## 1.1 If statements\n",
    "The mythical island nation of Laskoatu has a rather simple tax code. The first $1000 of income is taxed at 5%. The next $1000 is taxed at 10%. Any income beyond the first $2000 is taxed at 15%. Complete the following script so that it asks the user for his or her income and outputs the amount of tax owed."
   ]
  },
  {
   "cell_type": "code",
   "execution_count": 17,
   "metadata": {},
   "outputs": [
    {
     "name": "stdout",
     "output_type": "stream",
     "text": [
      "Enter your income: 5000\n",
      "The amount of tax owed: 600.0\n"
     ]
    }
   ],
   "source": [
    "income = int(input(\"Enter your income: \"))\n",
    "tax = 0\n",
    "\n",
    "if income <= 1000:\n",
    "    tax = income * 0.05\n",
    "elif income <= 2000:\n",
    "    tax = (income - 1000) * 0.1\n",
    "    tax = tax + 1000 * 0.05\n",
    "else:\n",
    "    tax = (income - 2000) * 0.15\n",
    "    tax = tax + 1000 * 0.15\n",
    "print(\"The amount of tax owed:\", tax)"
   ]
  },
  {
   "cell_type": "markdown",
   "metadata": {},
   "source": [
    "## 1.2 While loops\n",
    "Write a script that prompts the user for his or her name. Using a while loop that counts downwards, print the name with the letters reversed. You may use s.lower() and s.upper() to change a string s to lowercase and uppercase letters.\n",
    "Enter your name: Paul\n",
    "Luap\n",
    "If the name is the same forward and backwards, print “Palindrome!” on the next line.\n",
    "Enter your name: Ana\n",
    "Ana\n",
    "Palindrome!\n",
    "In [ ]: name = input(\"Enter your name: \")"
   ]
  },
  {
   "cell_type": "code",
   "execution_count": 16,
   "metadata": {},
   "outputs": [
    {
     "name": "stdout",
     "output_type": "stream",
     "text": [
      "Enter your name:Ana\n",
      "Ana\n",
      "Palindrome!\n"
     ]
    }
   ],
   "source": [
    "name = input(\"Enter your name:\")\n",
    "name_backward = name[::-1]\n",
    "\n",
    "print(name_backward[0].upper()+name_backward[1:-1]+name_backward[len(name_backward)-1].lower())\n",
    "if name.lower() == name_backward.lower():\n",
    "    print(\"Palindrome!\")"
   ]
  },
  {
   "cell_type": "markdown",
   "metadata": {},
   "source": [
    "## 1.3 Tree Prints\n",
    "Write a script that prompts the user for an integer tree size, then displays a number tree as shown below: Enter a size: 5\n",
    "    1\n",
    "   121\n",
    "  12321\n",
    " 1234321\n",
    "123454321"
   ]
  },
  {
   "cell_type": "code",
   "execution_count": 15,
   "metadata": {},
   "outputs": [
    {
     "name": "stdout",
     "output_type": "stream",
     "text": [
      "Enter a size: 5\n",
      "    1    \n",
      "   121   \n",
      "  12321  \n",
      " 1234321 \n",
      "123454321\n"
     ]
    }
   ],
   "source": [
    "n = int(input(\"Enter a size: \"))\n",
    "row = 1\n",
    "asc = 1\n",
    "desc = row - 1\n",
    "blanks = n - row\n",
    "\n",
    "\n",
    "# print numbers\n",
    "while row <= n:\n",
    "\n",
    "    #print the front blanks\n",
    "    while asc <= blanks:\n",
    "        print(\" \", end=\"\")\n",
    "        asc +=1\n",
    "    asc = 1\n",
    "    blanks = n - row\n",
    "    #print ascending numbers\n",
    "    while asc <= row:\n",
    "        print(asc,end=\"\")\n",
    "        asc += 1\n",
    "    asc = 1\n",
    "    #print decending numbers\n",
    "    while desc > 0:\n",
    "        print(desc,end=\"\")\n",
    "        desc -= 1\n",
    "    #print the back blanks\n",
    "    asc = 1\n",
    "    while asc <= blanks:\n",
    "        print(\" \", end=\"\")\n",
    "        asc +=1\n",
    "    print(\"\")\n",
    "\n",
    "        \n",
    "    row +=1\n",
    "    asc = 1\n",
    "    desc = row - 1\n",
    "    blanks = n - row\n",
    "\n",
    "    "
   ]
  },
  {
   "cell_type": "markdown",
   "metadata": {},
   "source": [
    "## 1.4 Fibonacci\n",
    "The Fibonacci numbers begin with 1, 1. After the first two numbers, each number is the sum of the previous two. 1+1=2,so 2 is the third number. Then 1+2=3,so 3 is the next one,and soon. Write a script that prompts the user for a number, then prints all the Fibonacci numbers that are less than or equal to the input, in order.\n",
    "Enter a number: 15\n",
    "1 1 2 3 5 8 13\n",
    "In [ ]: n = int(input(\"Enter a number: \"))"
   ]
  },
  {
   "cell_type": "code",
   "execution_count": 14,
   "metadata": {},
   "outputs": [
    {
     "name": "stdout",
     "output_type": "stream",
     "text": [
      "Enter a number: 15\n",
      "1 1 2 3 5 8 13 "
     ]
    }
   ],
   "source": [
    "n = int(input(\"Enter a number: \"))\n",
    "f1 = 1\n",
    "f2 = 1\n",
    "temp = f1 + f2\n",
    "if n >= 1:\n",
    "    print(f1, f2, end=\" \")\n",
    "while temp <= n:\n",
    "    print(temp, end=\" \")\n",
    "    f1 = f2\n",
    "    f2 = temp\n",
    "    temp = f1 + f2"
   ]
  },
  {
   "cell_type": "markdown",
   "metadata": {},
   "source": [
    "## 1.5 Pascal’s Triangle\n",
    "Pascal’s triangle is a triangle of numbers that is computed as follows. The first row contains a 1. Each row after that begins and ends with a 1, and every other number is the sum of the two numbers above it. The first six rows of Pascal’s triangle are shown below.\n",
    "1\n",
    "11 121 1331 14641 1 5 10 10 5 1\n",
    "Write a script to compute the nth row of Pascal’s triangle.\n",
    "In [ ]: n = int(input(\"Enter a number: \"))"
   ]
  },
  {
   "cell_type": "code",
   "execution_count": 13,
   "metadata": {},
   "outputs": [
    {
     "name": "stdout",
     "output_type": "stream",
     "text": [
      "Enter a number: 7\n",
      "1 6 15 20 15 6 1 "
     ]
    }
   ],
   "source": [
    "n = int(input(\"Enter a number: \"))\n",
    "row = 3\n",
    "pascal = [1,2,1]\n",
    "pascal_next = []\n",
    "i = 0\n",
    "j = 1\n",
    "\n",
    "if n < 2:\n",
    "    print (1)\n",
    "elif n < 3:\n",
    "    print (1,1)\n",
    "else:\n",
    "    # compute the nth row of Pascal's triangle\n",
    "    while row < n:\n",
    "        pascal_next.append(1)\n",
    "        while j < len(pascal):\n",
    "            pascal_next.append(pascal[i]+ pascal[j])\n",
    "            i+=1\n",
    "            j+=1\n",
    "        pascal_next.append(1)\n",
    "        pascal = pascal_next\n",
    "        pascal_next = []\n",
    "        \n",
    "        row +=1\n",
    "        i=0\n",
    "        j=1\n",
    "    # print the nth row of Pascal's triangle    \n",
    "    i = 0\n",
    "    while i < len(pascal):\n",
    "        print(pascal[i], end=\" \")\n",
    "        i += 1\n",
    "        "
   ]
  },
  {
   "cell_type": "code",
   "execution_count": null,
   "metadata": {
    "collapsed": true
   },
   "outputs": [],
   "source": []
  },
  {
   "cell_type": "code",
   "execution_count": null,
   "metadata": {
    "collapsed": true
   },
   "outputs": [],
   "source": []
  },
  {
   "cell_type": "code",
   "execution_count": null,
   "metadata": {
    "collapsed": true
   },
   "outputs": [],
   "source": []
  }
 ],
 "metadata": {
  "kernelspec": {
   "display_name": "Python 3",
   "language": "python",
   "name": "python3"
  },
  "language_info": {
   "codemirror_mode": {
    "name": "ipython",
    "version": 3
   },
   "file_extension": ".py",
   "mimetype": "text/x-python",
   "name": "python",
   "nbconvert_exporter": "python",
   "pygments_lexer": "ipython3",
   "version": "3.6.2"
  }
 },
 "nbformat": 4,
 "nbformat_minor": 2
}
