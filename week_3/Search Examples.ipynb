{
 "cells": [
  {
   "cell_type": "markdown",
   "metadata": {},
   "source": [
    "# More about Algorithms\n",
    "\n",
    "algorithm:\n",
    "1. abstract set of steps a program will execute\n",
    "2. plan for solving a problem\n",
    "\n",
    "problem: how do you find the square root of x. x>0. want to be within epsilon of the real square root.\n",
    "\n",
    "x ** 0.5\n",
    "## Brute Force"
   ]
  },
  {
   "cell_type": "code",
   "execution_count": 5,
   "metadata": {},
   "outputs": [
    {
     "name": "stdout",
     "output_type": "stream",
     "text": [
      "Enter a number: 12345\n",
      "number of guesses:  11110806\n",
      "111.1080600240677 is close to the square root of 12345.0\n"
     ]
    }
   ],
   "source": [
    "x = float(input(\"Enter a number: \"))\n",
    "\n",
    "num_guesses = 0\n",
    "epsilon = 0.00001\n",
    "ans = 0.0\n",
    "\n",
    "while ans ** 2 <= x:\n",
    "    ans += epsilon\n",
    "    num_guesses +=1\n",
    "    \n",
    "print(\"number of guesses: \", num_guesses)\n",
    "print(ans, \"is close to the square root of\", x)\n"
   ]
  },
  {
   "cell_type": "markdown",
   "metadata": {},
   "source": [
    "## Bisection Search\n",
    "square root of x\n",
    "![title](bisect1.png)\n",
    "![title](bisect2.png)"
   ]
  },
  {
   "cell_type": "code",
   "execution_count": 13,
   "metadata": {},
   "outputs": [
    {
     "name": "stdout",
     "output_type": "stream",
     "text": [
      "Enter a number: 165\n",
      "low = 0 high = 165.0\n",
      "low = 0 high = 82.5\n",
      "low = 0 high = 41.25\n",
      "low = 0 high = 20.625\n",
      "low = 10.3125 high = 20.625\n",
      "low = 10.3125 high = 15.46875\n",
      "low = 10.3125 high = 12.890625\n",
      "low = 11.6015625 high = 12.890625\n",
      "low = 12.24609375 high = 12.890625\n",
      "low = 12.568359375 high = 12.890625\n",
      "low = 12.7294921875 high = 12.890625\n",
      "low = 12.81005859375 high = 12.890625\n",
      "low = 12.81005859375 high = 12.850341796875\n",
      "low = 12.8302001953125 high = 12.850341796875\n",
      "low = 12.84027099609375 high = 12.850341796875\n",
      "low = 12.84027099609375 high = 12.845306396484375\n",
      "low = 12.842788696289062 high = 12.845306396484375\n",
      "low = 12.844047546386719 high = 12.845306396484375\n",
      "low = 12.844676971435547 high = 12.845306396484375\n",
      "low = 12.844991683959961 high = 12.845306396484375\n",
      "low = 12.845149040222168 high = 12.845306396484375\n",
      "low = 12.845227718353271 high = 12.845306396484375\n",
      "low = 12.845227718353271 high = 12.845267057418823\n",
      "12.84523755311966 is close to the square root of 165.0\n",
      "Number of guesses:  23\n"
     ]
    }
   ],
   "source": [
    "x = float(input(\"Enter a number: \"))\n",
    "\n",
    "epsilon = 0.00001\n",
    "num_guesses = 0\n",
    "low = 0\n",
    "high = x\n",
    "ans = (high + low) / 2.0\n",
    "\n",
    "while high - low >= 2 * epsilon:\n",
    "    print(\"low =\",low, \"high =\",high)\n",
    "    num_guesses += 1\n",
    "    if ans**2 < x:\n",
    "        low = ans\n",
    "    else: high = ans\n",
    "    ans = (high + low) / 2.0\n",
    "\n",
    "print(ans,\"is close to the square root of\",x)\n",
    "print(\"Number of guesses: \", num_guesses)"
   ]
  },
  {
   "cell_type": "markdown",
   "metadata": {},
   "source": [
    "## Heron's Method\n",
    "\n",
    "find the square root of x\n",
    "ans\n",
    "consider x / ans\n",
    "ans * (x/ans) = x\n",
    "\n",
    "next guess: (x/ans + ans) / 2\n",
    "\n",
    "Newton's Method.\n",
    "let f(ans) = ans**2 - x.\n",
    "find ans such tat f(ans) = 0\n"
   ]
  },
  {
   "cell_type": "markdown",
   "metadata": {},
   "source": [
    "![title](newton.png)"
   ]
  },
  {
   "cell_type": "code",
   "execution_count": 17,
   "metadata": {},
   "outputs": [
    {
     "name": "stdout",
     "output_type": "stream",
     "text": [
      "Enter a number: 0.25\n",
      "0.5000000232305737 is close to the square root of 0.25\n",
      "Number of guesses:  4\n"
     ]
    }
   ],
   "source": [
    "x = float(input(\"Enter a number: \"))\n",
    "\n",
    "epsilon = 0.0001\n",
    "num_guesses = 0\n",
    "ans = 1\n",
    "\n",
    "while abs(x/ans - ans) > epsilon:\n",
    "    ans = (x/ans + ans) / 2\n",
    "    num_guesses +=1\n",
    "\n",
    "print(ans, \"is close to the square root of\", x)\n",
    "print(\"Number of guesses: \", num_guesses)"
   ]
  },
  {
   "cell_type": "code",
   "execution_count": null,
   "metadata": {
    "collapsed": true
   },
   "outputs": [],
   "source": []
  },
  {
   "cell_type": "code",
   "execution_count": null,
   "metadata": {
    "collapsed": true
   },
   "outputs": [],
   "source": []
  }
 ],
 "metadata": {
  "kernelspec": {
   "display_name": "Python 3",
   "language": "python",
   "name": "python3"
  },
  "language_info": {
   "codemirror_mode": {
    "name": "ipython",
    "version": 3
   },
   "file_extension": ".py",
   "mimetype": "text/x-python",
   "name": "python",
   "nbconvert_exporter": "python",
   "pygments_lexer": "ipython3",
   "version": "3.6.2"
  }
 },
 "nbformat": 4,
 "nbformat_minor": 2
}
