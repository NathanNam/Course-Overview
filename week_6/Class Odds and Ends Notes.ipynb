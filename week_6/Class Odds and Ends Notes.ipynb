{
 "cells": [
  {
   "cell_type": "markdown",
   "metadata": {},
   "source": [
    "# Properties"
   ]
  },
  {
   "cell_type": "code",
   "execution_count": 3,
   "metadata": {},
   "outputs": [
    {
     "name": "stdout",
     "output_type": "stream",
     "text": [
      "The Drone's altitude is 100\n",
      "The Drone's altitude is 300\n"
     ]
    }
   ],
   "source": [
    "class Drone:\n",
    "    def __init__(self, altitude = 0):\n",
    "        self.altitude = altitude\n",
    "        self.ascend_count = 0\n",
    "    \n",
    "    def fly(self):\n",
    "        print(\"The drone is flying at \", self.altitude, \" feet.\")\n",
    "        \n",
    "    def ascend(self, change):\n",
    "        self.altitude += change\n",
    "        self.ascend_count += 1\n",
    "\n",
    "d1 = Drone(100)\n",
    "print(\"The Drone's altitude is\", d1.altitude)\n",
    "\n",
    "d1.altitude = 300\n",
    "print(\"The Drone's altitude is\", d1.altitude)\n"
   ]
  },
  {
   "cell_type": "code",
   "execution_count": 5,
   "metadata": {},
   "outputs": [
    {
     "name": "stdout",
     "output_type": "stream",
     "text": [
      "The Drone's altitude is 100\n",
      "The Drone's altitude is 300\n"
     ]
    }
   ],
   "source": [
    "class Drone:\n",
    "    def __init__(self, altitude = 0):\n",
    "        self.__altitude = altitude\n",
    "        self.ascend_count = 0\n",
    "    \n",
    "    def fly(self):\n",
    "        print(\"The drone is flying at \", self.__altitude, \" feet.\")\n",
    "        \n",
    "    def ascend(self, change):\n",
    "        self.__altitude += change\n",
    "        self.ascend_count += 1\n",
    "    \n",
    "    def get_altitude(self):\n",
    "        return self.__altitude\n",
    "    \n",
    "    def set_altitude(self, new_altitude):\n",
    "        if new_altitude < 0:\n",
    "            raise Exception(\"Drone cannot have a negative altitude.\")\n",
    "        self.__altitude = new_altitude\n",
    "    \n",
    "    altitude = property(get_altitude, set_altitude)\n",
    "    \n",
    "d1 = Drone(100)\n",
    "print(\"The Drone's altitude is\", d1.altitude)\n",
    "\n",
    "d1.altitude = 300\n",
    "print(\"The Drone's altitude is\", d1.altitude)"
   ]
  },
  {
   "cell_type": "code",
   "execution_count": null,
   "metadata": {
    "collapsed": true
   },
   "outputs": [],
   "source": []
  },
  {
   "cell_type": "code",
   "execution_count": 6,
   "metadata": {},
   "outputs": [
    {
     "ename": "Exception",
     "evalue": "Drone cannot have a negative altitude.",
     "output_type": "error",
     "traceback": [
      "\u001b[0;31m---------------------------------------------------------------------------\u001b[0m",
      "\u001b[0;31mException\u001b[0m                                 Traceback (most recent call last)",
      "\u001b[0;32m<ipython-input-6-0611421cea68>\u001b[0m in \u001b[0;36m<module>\u001b[0;34m()\u001b[0m\n\u001b[0;32m----> 1\u001b[0;31m \u001b[0md1\u001b[0m\u001b[0;34m.\u001b[0m\u001b[0maltitude\u001b[0m \u001b[0;34m=\u001b[0m \u001b[0;34m-\u001b[0m\u001b[0;36m10\u001b[0m\u001b[0;34m\u001b[0m\u001b[0m\n\u001b[0m",
      "\u001b[0;32m<ipython-input-5-0d4acae74d14>\u001b[0m in \u001b[0;36mset_altitude\u001b[0;34m(self, new_altitude)\u001b[0m\n\u001b[1;32m     16\u001b[0m     \u001b[0;32mdef\u001b[0m \u001b[0mset_altitude\u001b[0m\u001b[0;34m(\u001b[0m\u001b[0mself\u001b[0m\u001b[0;34m,\u001b[0m \u001b[0mnew_altitude\u001b[0m\u001b[0;34m)\u001b[0m\u001b[0;34m:\u001b[0m\u001b[0;34m\u001b[0m\u001b[0m\n\u001b[1;32m     17\u001b[0m         \u001b[0;32mif\u001b[0m \u001b[0mnew_altitude\u001b[0m \u001b[0;34m<\u001b[0m \u001b[0;36m0\u001b[0m\u001b[0;34m:\u001b[0m\u001b[0;34m\u001b[0m\u001b[0m\n\u001b[0;32m---> 18\u001b[0;31m             \u001b[0;32mraise\u001b[0m \u001b[0mException\u001b[0m\u001b[0;34m(\u001b[0m\u001b[0;34m\"Drone cannot have a negative altitude.\"\u001b[0m\u001b[0;34m)\u001b[0m\u001b[0;34m\u001b[0m\u001b[0m\n\u001b[0m\u001b[1;32m     19\u001b[0m         \u001b[0mself\u001b[0m\u001b[0;34m.\u001b[0m\u001b[0m__altitude\u001b[0m \u001b[0;34m=\u001b[0m \u001b[0mnew_altitude\u001b[0m\u001b[0;34m\u001b[0m\u001b[0m\n\u001b[1;32m     20\u001b[0m \u001b[0;34m\u001b[0m\u001b[0m\n",
      "\u001b[0;31mException\u001b[0m: Drone cannot have a negative altitude."
     ]
    }
   ],
   "source": [
    "d1.altitude = -10"
   ]
  },
  {
   "cell_type": "code",
   "execution_count": 8,
   "metadata": {},
   "outputs": [
    {
     "name": "stdout",
     "output_type": "stream",
     "text": [
      "The Drone's altitude is 100\n",
      "The Drone's altitude is 300\n"
     ]
    },
    {
     "ename": "Exception",
     "evalue": "Drone cannot have a negative altitude.",
     "output_type": "error",
     "traceback": [
      "\u001b[0;31m---------------------------------------------------------------------------\u001b[0m",
      "\u001b[0;31mException\u001b[0m                                 Traceback (most recent call last)",
      "\u001b[0;32m<ipython-input-8-b7ad9fcef5e3>\u001b[0m in \u001b[0;36m<module>\u001b[0;34m()\u001b[0m\n\u001b[1;32m     28\u001b[0m \u001b[0mprint\u001b[0m\u001b[0;34m(\u001b[0m\u001b[0;34m\"The Drone's altitude is\"\u001b[0m\u001b[0;34m,\u001b[0m \u001b[0md1\u001b[0m\u001b[0;34m.\u001b[0m\u001b[0maltitude\u001b[0m\u001b[0;34m)\u001b[0m\u001b[0;34m\u001b[0m\u001b[0m\n\u001b[1;32m     29\u001b[0m \u001b[0;34m\u001b[0m\u001b[0m\n\u001b[0;32m---> 30\u001b[0;31m \u001b[0md1\u001b[0m\u001b[0;34m.\u001b[0m\u001b[0maltitude\u001b[0m \u001b[0;34m=\u001b[0m \u001b[0;34m-\u001b[0m\u001b[0;36m10\u001b[0m\u001b[0;34m\u001b[0m\u001b[0m\n\u001b[0m",
      "\u001b[0;32m<ipython-input-8-b7ad9fcef5e3>\u001b[0m in \u001b[0;36maltitude\u001b[0;34m(self, new_altitude)\u001b[0m\n\u001b[1;32m     18\u001b[0m     \u001b[0;32mdef\u001b[0m \u001b[0maltitude\u001b[0m\u001b[0;34m(\u001b[0m\u001b[0mself\u001b[0m\u001b[0;34m,\u001b[0m \u001b[0mnew_altitude\u001b[0m\u001b[0;34m)\u001b[0m\u001b[0;34m:\u001b[0m\u001b[0;34m\u001b[0m\u001b[0m\n\u001b[1;32m     19\u001b[0m         \u001b[0;32mif\u001b[0m \u001b[0mnew_altitude\u001b[0m \u001b[0;34m<\u001b[0m \u001b[0;36m0\u001b[0m\u001b[0;34m:\u001b[0m\u001b[0;34m\u001b[0m\u001b[0m\n\u001b[0;32m---> 20\u001b[0;31m             \u001b[0;32mraise\u001b[0m \u001b[0mException\u001b[0m\u001b[0;34m(\u001b[0m\u001b[0;34m\"Drone cannot have a negative altitude.\"\u001b[0m\u001b[0;34m)\u001b[0m\u001b[0;34m\u001b[0m\u001b[0m\n\u001b[0m\u001b[1;32m     21\u001b[0m         \u001b[0mself\u001b[0m\u001b[0;34m.\u001b[0m\u001b[0m__altitude\u001b[0m \u001b[0;34m=\u001b[0m \u001b[0mnew_altitude\u001b[0m\u001b[0;34m\u001b[0m\u001b[0m\n\u001b[1;32m     22\u001b[0m \u001b[0;34m\u001b[0m\u001b[0m\n",
      "\u001b[0;31mException\u001b[0m: Drone cannot have a negative altitude."
     ]
    }
   ],
   "source": [
    "class Drone:\n",
    "    def __init__(self, altitude = 0):\n",
    "        self.__altitude = altitude\n",
    "        self.ascend_count = 0\n",
    "    \n",
    "    def fly(self):\n",
    "        print(\"The drone is flying at \", self.__altitude, \" feet.\")\n",
    "        \n",
    "    def ascend(self, change):\n",
    "        self.__altitude += change\n",
    "        self.ascend_count += 1\n",
    "    \n",
    "    @property\n",
    "    def altitude(self):\n",
    "        return self.__altitude\n",
    "    \n",
    "    @altitude.setter\n",
    "    def altitude(self, new_altitude):\n",
    "        if new_altitude < 0:\n",
    "            raise Exception(\"Drone cannot have a negative altitude.\")\n",
    "        self.__altitude = new_altitude\n",
    "        \n",
    "        \n",
    "d1 = Drone(100)\n",
    "print(\"The Drone's altitude is\", d1.altitude)\n",
    "\n",
    "d1.altitude = 300\n",
    "print(\"The Drone's altitude is\", d1.altitude)\n",
    "\n",
    "d1.altitude = -10"
   ]
  },
  {
   "cell_type": "markdown",
   "metadata": {},
   "source": [
    "## Class Methods and Static Methods"
   ]
  },
  {
   "cell_type": "code",
   "execution_count": 9,
   "metadata": {},
   "outputs": [
    {
     "data": {
      "text/plain": [
       "<bound method Drone.print_class of <class '__main__.Drone'>>"
      ]
     },
     "execution_count": 9,
     "metadata": {},
     "output_type": "execute_result"
    }
   ],
   "source": [
    "class Drone:\n",
    "    def __init__(self, altitude = 0):\n",
    "        self.altitude = altitude\n",
    "        self.ascend_count = 0\n",
    "    \n",
    "    def fly(self):\n",
    "        print(\"The drone is flying at \", self.altitude, \" feet.\")\n",
    "        \n",
    "    def ascend(self, change):\n",
    "        self.altitude += change\n",
    "        self.ascend_count += 1\n",
    "    \n",
    "    @classmethod\n",
    "    def print_class(cls):\n",
    "        print(cls)\n",
    "\n",
    "d1 = Drone(100)\n",
    "d1.print_class\n",
    "    "
   ]
  },
  {
   "cell_type": "code",
   "execution_count": 10,
   "metadata": {},
   "outputs": [
    {
     "data": {
      "text/plain": [
       "<bound method Drone.print_class of <class '__main__.Drone'>>"
      ]
     },
     "execution_count": 10,
     "metadata": {},
     "output_type": "execute_result"
    }
   ],
   "source": [
    "Drone.print_class"
   ]
  },
  {
   "cell_type": "code",
   "execution_count": 12,
   "metadata": {},
   "outputs": [
    {
     "name": "stdout",
     "output_type": "stream",
     "text": [
      "1\n",
      "2\n"
     ]
    }
   ],
   "source": [
    "class Drone:\n",
    "    \n",
    "    __num_drones = 0\n",
    "    \n",
    "    def __init__(self, altitude = 0):\n",
    "        self.altitude = altitude\n",
    "        self.ascend_count = 0\n",
    "        Drone.__num_drones +=1\n",
    "    \n",
    "    def fly(self):\n",
    "        print(\"The drone is flying at \", self.altitude, \" feet.\")\n",
    "        \n",
    "    def ascend(self, change):\n",
    "        self.altitude += change\n",
    "        self.ascend_count += 1\n",
    "        \n",
    "    @classmethod\n",
    "    def get_num_drones(cls):\n",
    "        return cls.__num_drones\n",
    "\n",
    "d1 = Drone(100)\n",
    "print(d1.get_num_drones())\n",
    "\n",
    "d2 = Drone(200)\n",
    "print(d2.get_num_drones())"
   ]
  },
  {
   "cell_type": "code",
   "execution_count": 13,
   "metadata": {},
   "outputs": [
    {
     "name": "stdout",
     "output_type": "stream",
     "text": [
      "656.168\n"
     ]
    }
   ],
   "source": [
    "class Drone:\n",
    "    \n",
    "    __num_drones = 0\n",
    "    \n",
    "    def __init__(self, altitude = 0):\n",
    "        self.altitude = altitude\n",
    "        self.ascend_count = 0\n",
    "        Drone.__num_drones +=1\n",
    "    \n",
    "    def fly(self):\n",
    "        print(\"The drone is flying at \", self.altitude, \" feet.\")\n",
    "        \n",
    "    def ascend(self, change):\n",
    "        self.altitude += change\n",
    "        self.ascend_count += 1\n",
    "        \n",
    "    @classmethod\n",
    "    def get_num_drones(cls):\n",
    "        return cls.__num_drones\n",
    "    \n",
    "    @staticmethod\n",
    "    def feet_from_meters(meters):\n",
    "        return meters * 3.28084\n",
    "    \n",
    "d1 = Drone(100)\n",
    "d1.altitude = Drone.feet_from_meters(200)\n",
    "print(d1.altitude)"
   ]
  }
 ],
 "metadata": {
  "kernelspec": {
   "display_name": "Python 3",
   "language": "python",
   "name": "python3"
  },
  "language_info": {
   "codemirror_mode": {
    "name": "ipython",
    "version": 3
   },
   "file_extension": ".py",
   "mimetype": "text/x-python",
   "name": "python",
   "nbconvert_exporter": "python",
   "pygments_lexer": "ipython3",
   "version": "3.6.2"
  }
 },
 "nbformat": 4,
 "nbformat_minor": 2
}
