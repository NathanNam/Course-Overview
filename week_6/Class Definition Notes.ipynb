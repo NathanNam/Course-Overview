{
 "cells": [
  {
   "cell_type": "markdown",
   "metadata": {},
   "source": [
    "# Using the Class Definition"
   ]
  },
  {
   "cell_type": "code",
   "execution_count": 1,
   "metadata": {
    "collapsed": true
   },
   "outputs": [],
   "source": [
    "class Drone:\n",
    "    power_system = \"battery\"\n",
    "    \n",
    "    def fly(self):\n",
    "        return \"The drone is flying.\""
   ]
  },
  {
   "cell_type": "code",
   "execution_count": 3,
   "metadata": {},
   "outputs": [
    {
     "name": "stdout",
     "output_type": "stream",
     "text": [
      "The drone is flying.\n"
     ]
    }
   ],
   "source": [
    "d = Drone()\n",
    "print(d.fly())"
   ]
  },
  {
   "cell_type": "code",
   "execution_count": 4,
   "metadata": {
    "collapsed": true
   },
   "outputs": [],
   "source": [
    "class Drone:\n",
    "    power_system = \"battery\"\n",
    "    \n",
    "    def fly(self):\n",
    "        return \"The \" + self.power_system + \"-powered drone is flying.\""
   ]
  },
  {
   "cell_type": "code",
   "execution_count": 5,
   "metadata": {},
   "outputs": [
    {
     "name": "stdout",
     "output_type": "stream",
     "text": [
      "The battery-powered drone is flying.\n"
     ]
    }
   ],
   "source": [
    "d = Drone()\n",
    "print(d.fly())"
   ]
  },
  {
   "cell_type": "code",
   "execution_count": 6,
   "metadata": {},
   "outputs": [
    {
     "name": "stdout",
     "output_type": "stream",
     "text": [
      "The dream-powered drone is flying.\n",
      "The battery-powered drone is flying.\n"
     ]
    }
   ],
   "source": [
    "d1 = Drone()\n",
    "d2 = Drone()\n",
    "d1.power_system = \"dream\"\n",
    "print(d1.fly())\n",
    "print(d2.fly())"
   ]
  },
  {
   "cell_type": "markdown",
   "metadata": {},
   "source": [
    "## Initializing (Constructing) a Class"
   ]
  },
  {
   "cell_type": "code",
   "execution_count": 14,
   "metadata": {},
   "outputs": [
    {
     "name": "stdout",
     "output_type": "stream",
     "text": [
      "The drone is flying at 100 feet.\n",
      "The drone is flying at 200 feet.\n",
      "The drone is flying at 0 feet.\n"
     ]
    }
   ],
   "source": [
    "class Drone:\n",
    "    \n",
    "    def __init__(self, altitude = 0):\n",
    "        self.altitude = altitude\n",
    "    \n",
    "    def fly(self):\n",
    "        print(\"The drone is flying at \" + str(self.altitude) + \" feet.\")\n",
    "    \n",
    "    def ascend(self, change):\n",
    "        self.altitude += change\n",
    "    \n",
    "d1 = Drone(100)\n",
    "d1.fly()\n",
    "d1.ascend(100)\n",
    "d1.fly()\n",
    "d2 = Drone()\n",
    "d2.fly()"
   ]
  },
  {
   "cell_type": "markdown",
   "metadata": {},
   "source": [
    "## Counting with Data Attributes"
   ]
  },
  {
   "cell_type": "code",
   "execution_count": 19,
   "metadata": {},
   "outputs": [
    {
     "name": "stdout",
     "output_type": "stream",
     "text": [
      "Number of drones: 1\n",
      "The drone is flying at 100 feet.\n",
      "The drone is flying at 0 feet.\n",
      "Number of drones: 2\n"
     ]
    }
   ],
   "source": [
    "class Drone:\n",
    "    \n",
    "    num_drones = 0\n",
    "\n",
    "    def __init__(self, altitude = 0):\n",
    "        self.altitude = altitude\n",
    "        self.ascend_count = 0\n",
    "        Drone.num_drones += 1\n",
    "    \n",
    "    def fly(self):\n",
    "        print(\"The drone is flying at \" + str(self.altitude) + \" feet.\")\n",
    "    \n",
    "    def ascend(self, change):\n",
    "        self.altitude += change\n",
    "        self.ascend_count +=1\n",
    "    \n",
    "d1 = Drone(100)\n",
    "print(\"Number of drones:\", Drone.num_drones)\n",
    "# print(\"d1 ascend count: \", d1.ascend_count)\n",
    "# d1.fly()\n",
    "# d1.ascend(100)\n",
    "# d1.ascend(100)\n",
    "# print(\"d1 ascend count: \", d1.ascend_count)\n",
    "d1.fly()\n",
    "d2 = Drone()\n",
    "d2.fly()\n",
    "print(\"Number of drones:\", Drone.num_drones)"
   ]
  }
 ],
 "metadata": {
  "kernelspec": {
   "display_name": "Python 3",
   "language": "python",
   "name": "python3"
  },
  "language_info": {
   "codemirror_mode": {
    "name": "ipython",
    "version": 3
   },
   "file_extension": ".py",
   "mimetype": "text/x-python",
   "name": "python",
   "nbconvert_exporter": "python",
   "pygments_lexer": "ipython3",
   "version": "3.6.2"
  }
 },
 "nbformat": 4,
 "nbformat_minor": 2
}
