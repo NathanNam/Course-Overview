{
 "cells": [
  {
   "cell_type": "markdown",
   "metadata": {},
   "source": [
    "\n",
    "# 1 Assignment 7: Cheating at Scrabble\n",
    "Write a Python script that takes a Scrabble rack as a command-line argument and prints all valid Scrabble words that can be constructed from that rack, along with their Scrabble scores, sorted by score.\n",
    "\n",
    "## There are a couple of requirements:\n",
    ". This needs to be able to be run as a command line tool as you’ll see below.\n",
    ". You need to handle input errors from the user and suggest what that error might be caused by (helpful error messages).\n",
    ". Implement wildcards as either * or ?.\n"
   ]
  },
  {
   "cell_type": "code",
   "execution_count": 1,
   "metadata": {},
   "outputs": [
    {
     "name": "stdout",
     "output_type": "stream",
     "text": [
      "Srabble:  ['/usr/local/lib/python3.6/site-packages/ipykernel_launcher.py', '-f', '/Users/nathan.nam/Library/Jupyter/runtime/kernel-6313bcab-42a3-4672-bfaf-07e7ed91b182.json']\n"
     ]
    }
   ],
   "source": [
    "import sys\n",
    "\n",
    "print(\"Srabble: \", sys.argv)\n"
   ]
  }
 ],
 "metadata": {
  "kernelspec": {
   "display_name": "Python 3",
   "language": "python",
   "name": "python3"
  },
  "language_info": {
   "codemirror_mode": {
    "name": "ipython",
    "version": 3
   },
   "file_extension": ".py",
   "mimetype": "text/x-python",
   "name": "python",
   "nbconvert_exporter": "python",
   "pygments_lexer": "ipython3",
   "version": "3.6.2"
  }
 },
 "nbformat": 4,
 "nbformat_minor": 2
}
